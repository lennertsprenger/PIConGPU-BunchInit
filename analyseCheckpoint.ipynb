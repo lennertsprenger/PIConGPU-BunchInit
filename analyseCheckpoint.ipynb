{
 "cells": [
  {
   "cell_type": "code",
   "execution_count": null,
   "id": "23658336-75c4-4834-867c-c689dde2a464",
   "metadata": {},
   "outputs": [],
   "source": [
    "%pylab inline\n",
    "import openpmd_api as io\n",
    "import numpy as np\n",
    "from numba import cuda, jit\n",
    "import math\n",
    "import scipy.constants"
   ]
  },
  {
   "cell_type": "code",
   "execution_count": null,
   "id": "0415e238-1236-405d-86f1-d0b007356873",
   "metadata": {},
   "outputs": [],
   "source": [
    "del series"
   ]
  },
  {
   "cell_type": "code",
   "execution_count": null,
   "id": "71f20ba0-52b6-4789-a717-42463fa1eb6c",
   "metadata": {
    "tags": []
   },
   "outputs": [],
   "source": [
    "\n",
    "#path = \"/bigdata/hplsim/scratch/spreng88/runs/bigFieldInit23_1_restart2_adiosOutput/simOutput/openPMD/simOutput_%T.bp\"\n",
    "path = \"/bigdata/hplsim/scratch/widera/restartBug/checkpoints/checkpoint_%T.h5\"\n",
    "\n",
    "series = io.Series( path, io.Access.read_only)#io.Access.read_write)\n"
   ]
  },
  {
   "cell_type": "code",
   "execution_count": null,
   "id": "e8338c6a-9bf1-4c1c-88ff-40ae4fef9ca7",
   "metadata": {
    "tags": []
   },
   "outputs": [],
   "source": [
    "iteration = []\n",
    "for i in series.iterations:\n",
    "    print(i, end=\"   \")\n",
    "    iteration.append(series.iterations[i])"
   ]
  },
  {
   "cell_type": "code",
   "execution_count": null,
   "id": "f218c841-5bdc-49d5-8b70-8652bd318bb2",
   "metadata": {
    "tags": []
   },
   "outputs": [],
   "source": [
    "species = \"b\"\n",
    "depth = 384 # tiefe wo der schnitt durch das Volumen für das Bild gibt\n",
    "p = []\n",
    "drawHist = True\n",
    "for i in np.arange(len(iteration)):\n",
    "    ex = iteration[i].meshes[\"E\"][\"x\"][:]\n",
    "    ey = iteration[i].meshes[\"E\"][\"y\"][:]\n",
    "    ez = iteration[i].meshes[\"E\"][\"z\"][:]\n",
    "    #bx = iteration[i].meshes[\"B\"][\"x\"][:]\n",
    "    #by = iteration[i].meshes[\"B\"][\"y\"][:]\n",
    "    #bz = iteration[i].meshes[\"B\"][\"z\"][:]\n",
    "    xpos_incell = iteration[i].particles[species][\"position\"][\"x\"][:]\n",
    "    ypos_incell = iteration[i].particles[species][\"position\"][\"y\"][:]\n",
    "    zpos_incell = iteration[i].particles[species][\"position\"][\"z\"][:]\n",
    "    xpos_offset = iteration[i].particles[species][\"positionOffset\"][\"x\"][:]\n",
    "    ypos_offset = iteration[i].particles[species][\"positionOffset\"][\"y\"][:]\n",
    "    zpos_offset = iteration[i].particles[species][\"positionOffset\"][\"z\"][:]\n",
    "    #momentumx = iteration[i].particles[species][\"momentum\"][\"x\"][:]\n",
    "    #momentumy = iteration[i].particles[species][\"momentum\"][\"y\"][:]\n",
    "    #momentumz = iteration[i].particles[species][\"momentum\"][\"z\"][:]\n",
    "    weightings = iteration[i].particles[species][\"weighting\"][io.Record_Component.SCALAR][:]\n",
    "    #charge = iteration[i].particles[species][\"charge\"][io.Record_Component.SCALAR][:]\n",
    "    #mass = iteration[i].particles[species][\"mass\"][io.Record_Component.SCALAR][:]\n",
    "\n",
    "    series.flush()\n",
    "\n",
    "    particleCount = len(weightings)\n",
    "    xpos = xpos_incell + np.float32(xpos_offset)\n",
    "    ypos = ypos_incell + np.float32(ypos_offset)\n",
    "    zpos = zpos_incell + np.float32(zpos_offset)\n",
    "    \n",
    "    #free some memory\n",
    "    del xpos_incell, ypos_incell, zpos_incell\n",
    "    del xpos_offset, ypos_offset, zpos_offset\n",
    "    \n",
    "    ef = np.sqrt(ex**2+ey**2+ez**2)\n",
    "    #bf = np.sqrt(bx**2+by**2+bz**2)\n",
    "    \n",
    "    shape = ef.shape\n",
    "    \n",
    "    del ex, ey, ez\n",
    "    #del bx, by, bz\n",
    "\n",
    "    figsize(10,10)\n",
    "    #imshow((ef[depth,:,:].T))#, vmin=0.0000, vmax=0.001, cmap='cubehelix_r')\n",
    "    a = np.histogram2d(xpos,ypos, bins=[np.arange(0,768), np.arange(0, 1024)])\n",
    "    imshow(ef[:, :, 350], cmap='cubehelix_r')\n",
    "    contour(a[0])\n",
    "    #colorbar()\n",
    "    show()\n",
    "    if drawHist:\n",
    "        figsize(10,1)\n",
    "        hist(ypos, weights=weightings, bins=np.linspace(0, shape[1], 100))\n",
    "        xlim(0, shape[1])\n",
    "        show()\n",
    "        hist(xpos, weights=weightings, bins=np.linspace(0, shape[2], 100))\n",
    "        xlim(0, shape[2])\n",
    "        show()\n",
    "        hist(zpos, weights=weightings, bins=np.linspace(0, shape[0], 100))\n",
    "        xlim(0, shape[0])\n",
    "        show()\n",
    "    p.append(np.average(ypos))"
   ]
  },
  {
   "cell_type": "code",
   "execution_count": null,
   "id": "fe7e6aaf-4fe3-4e1e-b8b5-46925168c632",
   "metadata": {},
   "outputs": [],
   "source": [
    "plot(p, 'x')"
   ]
  },
  {
   "cell_type": "code",
   "execution_count": null,
   "id": "886849e0-a982-4d09-a370-1c58c849d9a9",
   "metadata": {},
   "outputs": [],
   "source": [
    "hist(zpos, bins=20)"
   ]
  },
  {
   "cell_type": "code",
   "execution_count": null,
   "id": "52164177-ca51-4b9d-9415-d3c3c56c793c",
   "metadata": {},
   "outputs": [],
   "source": [
    "hist(zpos, bins=20)"
   ]
  },
  {
   "cell_type": "code",
   "execution_count": null,
   "id": "9b860e25-9482-4b95-ab1e-3ac702f2fc03",
   "metadata": {},
   "outputs": [],
   "source": [
    "figsize(10,2)\n",
    "plot(p,'x')"
   ]
  },
  {
   "cell_type": "code",
   "execution_count": null,
   "id": "b190208d-4eff-43be-8443-9dd1ac1fc200",
   "metadata": {},
   "outputs": [],
   "source": [
    "len(ypos)"
   ]
  },
  {
   "cell_type": "code",
   "execution_count": null,
   "id": "982e3852-27eb-4693-87bd-64cfbf19b969",
   "metadata": {},
   "outputs": [],
   "source": [
    "species = \"b\"\n",
    "i = 1\n",
    "xpos_incell = iteration[i].particles[species][\"position\"][\"x\"][:]\n",
    "ypos_incell = iteration[i].particles[species][\"position\"][\"y\"][:]\n",
    "zpos_incell = iteration[i].particles[species][\"position\"][\"z\"][:]\n",
    "xpos_offset = iteration[i].particles[species][\"positionOffset\"][\"x\"][:]\n",
    "ypos_offset = iteration[i].particles[species][\"positionOffset\"][\"y\"][:]\n",
    "zpos_offset = iteration[i].particles[species][\"positionOffset\"][\"z\"][:]\n",
    "momentumx = iteration[i].particles[species][\"momentum\"][\"x\"][:]\n",
    "momentumy = iteration[i].particles[species][\"momentum\"][\"y\"][:]\n",
    "momentumz = iteration[i].particles[species][\"momentum\"][\"z\"][:]\n",
    "weightings = iteration[i].particles[species][\"weighting\"][io.Record_Component.SCALAR][:]\n",
    "charge = iteration[i].particles[species][\"charge\"][io.Record_Component.SCALAR][:]\n",
    "mass = iteration[i].particles[species][\"mass\"][io.Record_Component.SCALAR][:]\n",
    "\n",
    "series.flush()\n",
    "\n",
    "particleCount = len(mass)\n",
    "xpos = xpos_incell + np.float32(xpos_offset)\n",
    "ypos = ypos_incell + np.float32(ypos_offset)\n",
    "zpos = zpos_incell + np.float32(zpos_offset)"
   ]
  },
  {
   "cell_type": "code",
   "execution_count": null,
   "id": "743e9b21-d797-4bce-bcc0-821f5ebca408",
   "metadata": {
    "tags": []
   },
   "outputs": [],
   "source": [
    "hist(ypos, weights=weightings, bins=50)#, bins=np.linspace(0, 96, 90))\n",
    "#yscale('log')\n",
    "#ylim(1, 3e8)"
   ]
  },
  {
   "cell_type": "code",
   "execution_count": null,
   "id": "191fa44b-6c80-4475-95f3-6851ce5ee544",
   "metadata": {},
   "outputs": [],
   "source": [
    "hist(momentumz/weightings, bins=30)"
   ]
  },
  {
   "cell_type": "code",
   "execution_count": null,
   "id": "e639f94a-fe93-43d4-a167-72205f507085",
   "metadata": {},
   "outputs": [],
   "source": [
    "figsize(10,10)\n",
    "a = np.histogram2d(xpos,ypos, bins=[np.arange(0,768), np.arange(0, 1024)])\n",
    "imshow(ef[150], cmap=\"cubehelix_r\")\n",
    "contour(a[0])"
   ]
  },
  {
   "cell_type": "code",
   "execution_count": null,
   "id": "f04fd7b1-dbae-4709-a561-0eda0a5e669a",
   "metadata": {},
   "outputs": [],
   "source": [
    "xpos"
   ]
  },
  {
   "cell_type": "code",
   "execution_count": null,
   "id": "3cf8281c-726b-4487-a7ab-2b49eb89af75",
   "metadata": {},
   "outputs": [],
   "source": [
    "a = histogram2d(xpos,ypos, bins=[np.arange(0,768), np.arange(0, 1024)])#, range=[[0, 768],[0, 1024]])"
   ]
  },
  {
   "cell_type": "code",
   "execution_count": null,
   "id": "c379423f-3347-421b-a9a7-b397efb73e09",
   "metadata": {},
   "outputs": [],
   "source": []
  },
  {
   "cell_type": "code",
   "execution_count": null,
   "id": "9ab4db2d-9a24-4dab-bb6c-65cd820f8f33",
   "metadata": {},
   "outputs": [],
   "source": [
    "contour(a[0])"
   ]
  },
  {
   "cell_type": "code",
   "execution_count": null,
   "id": "78f2b24e-72bc-4aa8-8e93-82331fc9b03d",
   "metadata": {},
   "outputs": [],
   "source": [
    "del ex, ey, ez\n",
    "del bx, by, bz"
   ]
  },
  {
   "cell_type": "code",
   "execution_count": null,
   "id": "72c4637b-15ca-4234-a009-999a2157dc2b",
   "metadata": {},
   "outputs": [],
   "source": []
  }
 ],
 "metadata": {
  "kernelspec": {
   "display_name": "Python 3 (ipykernel)",
   "language": "python",
   "name": "python3"
  },
  "language_info": {
   "codemirror_mode": {
    "name": "ipython",
    "version": 3
   },
   "file_extension": ".py",
   "mimetype": "text/x-python",
   "name": "python",
   "nbconvert_exporter": "python",
   "pygments_lexer": "ipython3",
   "version": "3.9.6"
  }
 },
 "nbformat": 4,
 "nbformat_minor": 5
}
