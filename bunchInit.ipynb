{
 "cells": [
  {
   "cell_type": "code",
   "execution_count": null,
   "id": "bb61b395-541f-4985-81fc-96d60b1fbf45",
   "metadata": {
    "tags": []
   },
   "outputs": [],
   "source": [
    "from checkpoint import openpmdcopy, print_attributes\n",
    "\n",
    "import math\n",
    "import matplotlib.pyplot as plt\n",
    "import numpy as np\n",
    "import openpmd_api as io\n",
    "import scipy.constants\n",
    "from scipy.ndimage import gaussian_filter\n",
    "import time\n"
   ]
  },
  {
   "cell_type": "markdown",
   "id": "ab53ac8a-a684-4707-b9d0-f524b2697b17",
   "metadata": {},
   "source": [
    "## Things to do in the future\n",
    "\n",
    "* specify a cutoff, behind all fields are written as 0 instead of a small value e.g. 1e-10 * field_max\n",
    "* multi GPU / multi Node calculations  field size are limited by GPU memory size\n",
    "\n",
    "## Things to note\n",
    "* The Convolutional PML fields aren't changed, which might lead to unexpected simulations\n",
    "* Only use this initialization on the 0 timestep (for now)"
   ]
  },
  {
   "cell_type": "markdown",
   "id": "f7fa483f-bb3e-4cbd-9c59-609e82aed735",
   "metadata": {},
   "source": [
    "## Set path to checkpoint"
   ]
  },
  {
   "cell_type": "code",
   "execution_count": null,
   "id": "6646086f-be87-4014-b985-bbca20213b3f",
   "metadata": {},
   "outputs": [],
   "source": [
    "\n",
    "# you can use one checkpoint explicitly checkpoint_0.h5\n",
    "# or a time series with checkpoint_%T.h5\n",
    "# when giving an explicit checkpoint you can ignore the warning\n",
    "\n",
    "read_file = \"/bigdata/hplsim/scratch/spreng88/runs/poisson/nonR_restart2/simOutput/checkpoints/checkpoint_%T.bp\"\n",
    "output_file = \"/bigdata/hplsim/scratch/spreng88/runs/write_%T.bp\"\n",
    "\n",
    "files = openpmdcopy(read_file, output_file)"
   ]
  },
  {
   "cell_type": "markdown",
   "id": "d917d7d8-d715-401b-b0fb-f3eece853c1a",
   "metadata": {},
   "source": [
    "## General setup"
   ]
  },
  {
   "cell_type": "code",
   "execution_count": null,
   "id": "ca29448d-bcba-4506-8b13-4b9914ef8306",
   "metadata": {},
   "outputs": [],
   "source": [
    "\n",
    "# add field to iteration 0\n",
    "input_iteration = files.read_series.iterations[0] \n",
    "output_iteration = files.write_series.iterations[0]\n",
    "\n",
    "# Read attributes of the simulation that might be needed later\n",
    "# Everything is calculated in PIConGPU units\n",
    "# For SI units: length_si = value_pic * unit_length\n",
    "cell_depth = input_iteration.get_attribute(\"cell_depth\")          # z\n",
    "cell_height = input_iteration.get_attribute(\"cell_height\")        # y\n",
    "cell_width = input_iteration.get_attribute(\"cell_width\")          # x\n",
    "\n",
    "unit_efield = input_iteration.get_attribute(\"unit_efield\")\n",
    "unit_bfield = input_iteration.get_attribute(\"unit_bfield\")\n",
    "unit_charge = input_iteration.get_attribute(\"unit_charge\")\n",
    "unit_mass = input_iteration.get_attribute(\"unit_mass\")\n",
    "unit_speed = input_iteration.get_attribute(\"unit_speed\")\n",
    "unit_length = input_iteration.get_attribute(\"unit_length\")\n",
    "unit_time = input_iteration.get_attribute(\"unit_time\")\n",
    "\n",
    "pi = scipy.constants.pi\n",
    "c = scipy.constants.c / unit_speed\n",
    "eps0 = input_iteration.get_attribute(\"eps0\")\n",
    "mue0 = input_iteration.get_attribute(\"mue0\")"
   ]
  },
  {
   "cell_type": "code",
   "execution_count": null,
   "id": "b78dbe31-11bd-4fa7-a0a7-f7e878713505",
   "metadata": {},
   "outputs": [],
   "source": [
    "files.copy_series_data()"
   ]
  },
  {
   "cell_type": "code",
   "execution_count": null,
   "id": "98b5b35d-c995-46f0-a8e3-996007d54d2f",
   "metadata": {},
   "outputs": [],
   "source": []
  },
  {
   "cell_type": "code",
   "execution_count": null,
   "id": "ad16cd4c-e1f2-47c3-990b-5428190e58d4",
   "metadata": {},
   "outputs": [],
   "source": [
    "def NGP_assignment(x):\n",
    "    # possibly wrong if the particle position is = 0.5\n",
    "    return 1 * (np.abs(x)<=1/2)\n",
    "\n",
    "def CIC_assignment(x):\n",
    "    return (1-np.abs(x)) * (np.abs(x)<1)\n",
    "\n",
    "def TSC_assignment(x):\n",
    "    return ((3/4 - x**2) * (np.abs(x) < 1/2)\n",
    "            + 1/2*(3/2 - np.abs(x))**2 * ((np.abs(x)<3/2) & (np.abs(x)>=1/2)))\n",
    "\n",
    "def PQS_assignment(x):\n",
    "    return (1/6* (4 - 6 * x**2 + 3 * np.abs(x)**3) * (np.abs(x)<=1)\n",
    "            + 1/6 * (2-np.abs(x))**3 * ((np.abs(x)<2) & (np.abs(x)>1)))\n",
    "\n",
    "def PCS_assignment(x):\n",
    "    return ((115/192 + x**2 * (-5/8 + 1/4 * x**2)) * (np.abs(x) < 1/2)\n",
    "            + 1/96 * (55 + 4 * np.abs(x) * (5 - 2 * np.abs(x) * (15 + 2 * np.abs(x) * (-5 + np.abs(x))))) * ((np.abs(x) < 3/2) & (np.abs(x)>=1/2))\n",
    "            + 1/384 * (5 - 2*np.abs(x))**4  * ((np.abs(x)<5/2) & (np.abs(x)>=3/2)) ) "
   ]
  },
  {
   "cell_type": "code",
   "execution_count": null,
   "id": "ec33dda8-36c3-4ab2-b4b8-9dc1ba3e353b",
   "metadata": {},
   "outputs": [],
   "source": []
  },
  {
   "cell_type": "markdown",
   "id": "17328d3e-644d-4182-b9d8-12bbdd87c016",
   "metadata": {},
   "source": [
    "## load particle data from the checkpoint\n",
    "define the species identifier string, as in the simulation"
   ]
  },
  {
   "cell_type": "code",
   "execution_count": null,
   "id": "7952feba-32f4-4fab-a5c5-d7dd29dee239",
   "metadata": {},
   "outputs": [],
   "source": [
    "species = \"e\"\n",
    "\n",
    "xpos_incell = input_iteration.particles[species][\"position\"][\"x\"][:]\n",
    "ypos_incell = input_iteration.particles[species][\"position\"][\"y\"][:]\n",
    "zpos_incell = input_iteration.particles[species][\"position\"][\"z\"][:]\n",
    "xpos_offset = input_iteration.particles[species][\"positionOffset\"][\"x\"][:]\n",
    "ypos_offset = input_iteration.particles[species][\"positionOffset\"][\"y\"][:]\n",
    "zpos_offset = input_iteration.particles[species][\"positionOffset\"][\"z\"][:]\n",
    "momentumx = input_iteration.particles[species][\"momentum\"][\"x\"][:]\n",
    "momentumy = input_iteration.particles[species][\"momentum\"][\"y\"][:]\n",
    "momentumz = input_iteration.particles[species][\"momentum\"][\"z\"][:]\n",
    "weightings = input_iteration.particles[species][\"weighting\"][io.Record_Component.SCALAR][:]\n",
    "charge = input_iteration.particles[species][\"charge\"][io.Record_Component.SCALAR][:]\n",
    "mass = input_iteration.particles[species][\"mass\"][io.Record_Component.SCALAR][:]\n",
    "\n",
    "files.read_series.flush()\n",
    "\n",
    "xpos = xpos_incell + np.float32(xpos_offset)\n",
    "ypos = ypos_incell + np.float32(ypos_offset)\n",
    "zpos = zpos_incell + np.float32(zpos_offset)\n",
    "\n",
    "# free some memory\n",
    "del xpos_incell, ypos_incell, zpos_incell\n",
    "xpos_offset, ypos_offset, zpos_offset\n",
    "\n",
    "particleCount = len(mass)"
   ]
  },
  {
   "cell_type": "markdown",
   "id": "80117bf6-b892-40ef-8f3d-5ee74a748a4f",
   "metadata": {},
   "source": [
    "## output to check particleCount and gridsize"
   ]
  },
  {
   "cell_type": "code",
   "execution_count": null,
   "id": "06e3d850-0244-43c1-9ccc-ec4f7aab2ac7",
   "metadata": {},
   "outputs": [],
   "source": [
    "xdim = 32 + 1\n",
    "ydim = 64 + 1\n",
    "zdim = 32 + 1\n",
    "shape = zdim * ydim * xdim\n",
    "field_shape = (zdim-1) * (ydim-1) * (xdim-1)"
   ]
  },
  {
   "cell_type": "code",
   "execution_count": null,
   "id": "b2c59bb8-c6aa-4164-b120-3f395ddf01fc",
   "metadata": {
    "tags": []
   },
   "outputs": [],
   "source": [
    "shape_assignment_function = PCS_assignment\n",
    "#n = 5\n",
    "##particleCount = 1\n",
    "#_xpos = []\n",
    "#_ypos = []\n",
    "#_zpos = []\n",
    "#_charge = []\n",
    "#_momentumx = []\n",
    "#_momentumy = []\n",
    "#_momentumz = []\n",
    "#_weighting = []\n",
    "#_mass = []\n",
    "#\n",
    "def apply_shape_particle():\n",
    "    for pos_id in range(particleCount):\n",
    "        x = xpos[pos_id]\n",
    "        y = ypos[pos_id]\n",
    "        z = zpos[pos_id]\n",
    "        #print(x, y ,z)\n",
    "        dim = np.arange(n)\n",
    "        charge_density = 0 # np.zeros(shape=(n, n, n))\n",
    "        \n",
    "        x_off = xpos_offset[pos_id]\n",
    "        y_off = ypos_offset[pos_id]\n",
    "        z_off = zpos_offset[pos_id]\n",
    "        counter = 0\n",
    "        for zz in dim:\n",
    "            for yy in dim:\n",
    "                for xx in dim:\n",
    "                    index = xx + yy*n + zz*n*n\n",
    "                    charge_density = (shape_assignment_function(xx - x + x_off - 2) *\n",
    "                                      shape_assignment_function(yy - y + y_off - 2) *\n",
    "                                      shape_assignment_function(zz - z + z_off - 2) *\n",
    "                                      charge[pos_id])\n",
    "                    #print(shape_assignment_function(xx - x + x_off - 2),\n",
    "                    #      shape_assignment_function(yy - y + y_off - 2),\n",
    "                    #      shape_assignment_function(zz - z + y_off - 2))\n",
    "                    \n",
    "                    if charge_density != 0:\n",
    "                        #print(charge_density, charge_density != 0)\n",
    "                        _xpos.append(x_off + xx - 2)\n",
    "                        _ypos.append(y_off + yy - 2)\n",
    "                        _zpos.append(z_off + zz - 2)\n",
    "                        _momentumx.append(momentumx[pos_id])\n",
    "                        _momentumy.append(momentumy[pos_id])\n",
    "                        _momentumz.append(momentumz[pos_id])\n",
    "                        _weighting.append(weightings[pos_id])\n",
    "                        _mass.append(mass[pos_id])\n",
    "                        _charge.append(charge_density)\n",
    "                        \n",
    "                        \n",
    "charge_density_global = np.zeros(shape=(zdim, ydim, xdim))\n",
    "\n",
    "def apply_shape_density():\n",
    "    n = 5\n",
    "    for pos_id in range(particleCount):\n",
    "        x = xpos[pos_id]\n",
    "        y = ypos[pos_id]\n",
    "        z = zpos[pos_id]\n",
    "        \n",
    "        dim = np.arange(n)\n",
    "        charge_density = np.zeros(shape=(n, n, n))\n",
    "        \n",
    "        x_off = xpos_offset[pos_id]\n",
    "        y_off = ypos_offset[pos_id]\n",
    "        z_off = zpos_offset[pos_id]\n",
    "        counter = 0\n",
    "        for zz in dim:\n",
    "            for yy in dim:\n",
    "                for xx in dim:\n",
    "                    index = xx + yy*n + zz*n*n\n",
    "                    charge_density[zz, yy, xx] = (shape_assignment_function(xx - x + x_off - 2.0) *\n",
    "                                                  shape_assignment_function(yy - y + y_off - 2.0) *\n",
    "                                                  shape_assignment_function(zz - z + z_off - 2.0) *\n",
    "                                                  charge[pos_id] / (cell_width * cell_height * cell_depth))\n",
    "                    #print(shape_assignment_function(xx - x + x_off - 2),\n",
    "                    #      shape_assignment_function(yy - y + y_off - 2),\n",
    "                    #      shape_assignment_function(zz - z + y_off - 2))\n",
    "                    #print(xx - x + x_off - 2,yy - y + y_off - 2,zz - z + z_off - 2)\n",
    "\n",
    "                    \n",
    "        print(\"sum:\", np.sum(charge_density))\n",
    "        print(\"charge:\", charge[pos_id])\n",
    "        print(charge_density)\n",
    "        charge_density_global[z_off-2:z_off+3, y_off-2:y_off+3, x_off-2:x_off+3] = charge_density\n",
    "                        \n",
    "apply_shape_density()\n",
    "\n",
    "#xpos = _xpos\n",
    "#ypos = _ypos\n",
    "#zpos = _zpos\n",
    "#charge = _charge\n",
    "#momentumx = _momentumx\n",
    "#momentumy = _momentumy\n",
    "#momentumz = _momentumz\n",
    "#weighting = _weighting\n",
    "#mass = _mass\n",
    "#density_flat = np.zeros(shape=(zdim, ydim, xdim))\n",
    "#density_flat[15, 15, 15] = -charge[0]/eps0\n",
    "density_flat = -charge_density_global.reshape((zdim) * (ydim) * (xdim)) / eps0"
   ]
  },
  {
   "cell_type": "code",
   "execution_count": null,
   "id": "d850dc9b-2a58-4e87-a8fc-fc8379cfcf10",
   "metadata": {},
   "outputs": [],
   "source": [
    "density_flat.sum()"
   ]
  },
  {
   "cell_type": "code",
   "execution_count": null,
   "id": "ba100d4d-b270-4ee3-9aa9-72fe0e089514",
   "metadata": {},
   "outputs": [],
   "source": [
    "print(\"particleCount:\", particleCount, len(mass))\n",
    "input_field_shape = files.input_iteration.meshes[\"E\"][\"x\"].shape\n",
    "xdim_total = input_field_shape[2]\n",
    "ydim_total = input_field_shape[1]\n",
    "zdim_total = input_field_shape[0]\n",
    "input_field_shape_total = xdim_total * ydim_total * zdim_total\n",
    "print(\"gridSize (z,y,x, total):\", input_field_shape, input_field_shape_total)\n",
    "\n",
    "field_dtype = files.input_iteration.meshes['E']['x'].dtype\n",
    "field_dataset = io.Dataset( field_dtype, input_field_shape)\n",
    "\n",
    "for field_name in ['E', 'B']:\n",
    "    files.copy_attributes(files.input_iteration.meshes[field_name],\n",
    "                          files.output_iteration.meshes[field_name])\n",
    "    for component in ['x', 'y', 'z']:\n",
    "        files.copy_attributes(files.input_iteration.meshes[field_name][component],\n",
    "                              files.output_iteration.meshes[field_name][component])\n",
    "        files.output_iteration.meshes[field_name][component].reset_dataset(field_dataset)"
   ]
  },
  {
   "cell_type": "code",
   "execution_count": null,
   "id": "1780507e-d01f-43bf-998e-d42f2c7f62db",
   "metadata": {},
   "outputs": [],
   "source": [
    "charge"
   ]
  },
  {
   "cell_type": "markdown",
   "id": "734f1bdb-7922-42d0-a6c4-6a2c4e5132ea",
   "metadata": {},
   "source": [
    "## calculate the fields\n",
    "\n",
    "set the chunk_size to the number of cells if the gpu has enough memory"
   ]
  },
  {
   "cell_type": "code",
   "execution_count": null,
   "id": "2914a16e-be01-43ea-bff1-e9ee26dda1f8",
   "metadata": {},
   "outputs": [],
   "source": [
    "#\n",
    "#chunk_size = np.array([768, 512, 768], dtype=np.int32)  # z y x\n",
    "#xdim = chunk_size[2]\n",
    "#ydim = chunk_size[1]\n",
    "#zdim = chunk_size[0]\n",
    "#shape = xdim * ydim * zdim\n",
    "#\n",
    "#min_memory_device = shape * 24 + particleCount * 56\n",
    "#print(\"device needs a minimum memory of:\",min_memory_device, \"Bytes = {:.5} GB\".format(min_memory_device*1e-9))\n",
    "#\n",
    "#chunk_offset = np.array([0, 128, 0], dtype=np.int32)          # offset for chunk (z, y, z)\n",
    "#"
   ]
  },
  {
   "cell_type": "code",
   "execution_count": null,
   "id": "2d95af34-cd19-418c-88b3-a444dcfc21c8",
   "metadata": {},
   "outputs": [],
   "source": [
    "pot = np.zeros(((xdim)*(ydim)*(zdim))**2).reshape((xdim)*(ydim)*(zdim), (xdim)*(ydim)*(zdim))\n",
    "\n",
    "for x in range(xdim):\n",
    "    for y in range(ydim):\n",
    "        for z in range(zdim):\n",
    "            index = x + y * xdim + z * xdim * ydim\n",
    "            #print(x, y, z)\n",
    "            \n",
    "            pot[ x + y * xdim + z * xdim * ydim, index] = -2 * ( 1/cell_width**2 + 1/cell_height**2 + 1/cell_depth**2 )\n",
    "            #print(x + (y+1) * xdim + z * xdim * ydim, index)\n",
    "            #print(x + (y-1) * xdim + z * xdim * ydim, index)\n",
    "            \n",
    "            if x+1 < xdim:\n",
    "                pot[ (x+1) + y * xdim + z * xdim * ydim, index] = 1 / (cell_width**2)\n",
    "            if x-1 > -1:\n",
    "                pot[ (x-1) + y * xdim + z * xdim * ydim, index] = 1 / (cell_width**2)\n",
    "            \n",
    "            if y+1 < ydim:\n",
    "                pot[ x + (y+1) * xdim + z * xdim * ydim, index] = 1 / (cell_height**2)\n",
    "            if y-1 > -1:\n",
    "                pot[ x + (y-1) * xdim + z * xdim * ydim, index] = 1 / (cell_height**2)\n",
    "            \n",
    "            if z+1 < zdim:\n",
    "                pot[ x + y * xdim + (z+1) * xdim * ydim, index] = 1 / (cell_depth**2)\n",
    "            if z-1 > -1:\n",
    "                pot[ x + y * xdim + (z-1) * xdim * ydim, index] = 1 / (cell_depth**2)"
   ]
  },
  {
   "cell_type": "code",
   "execution_count": null,
   "id": "a91e9686-172a-48c7-a8e2-0cd227e1475b",
   "metadata": {},
   "outputs": [],
   "source": [
    "S = scipy.sparse.csr_matrix(-pot)\n",
    "del pot"
   ]
  },
  {
   "cell_type": "code",
   "execution_count": null,
   "id": "dc4b5096-449f-4803-b064-ecf82ca02a93",
   "metadata": {
    "tags": []
   },
   "outputs": [],
   "source": [
    "\n",
    "array_dtype = np.float32                            # dtype for arrays\n",
    "ex = np.zeros(field_shape, dtype=array_dtype)\n",
    "ey = np.zeros(field_shape, dtype=array_dtype)\n",
    "ez = np.zeros(field_shape, dtype=array_dtype)\n",
    "bx = np.zeros(field_shape, dtype=array_dtype)\n",
    "by = np.zeros(field_shape, dtype=array_dtype)\n",
    "bz = np.zeros(field_shape, dtype=array_dtype)\n",
    "\n",
    "\n",
    "print(\"\\nstart of field calculation time:\", time.ctime())\n",
    "starttime = time.time()\n",
    "\n",
    "solution = np.array(scipy.sparse.linalg.cg(S, density_flat, tol=1e-12)[0])\n",
    "\n",
    "\n",
    "exeTime = time.time()-starttime\n",
    "print(\"time: {:.5}\".format( exeTime ), \"s\")\n",
    "print(\"avgTime per particle per cell:\", exeTime / particleCount / (xdim*ydim*zdim), \"s/(particle*cell)\")\n"
   ]
  },
  {
   "cell_type": "code",
   "execution_count": null,
   "id": "96262316-4ecc-4859-b3af-36a2ec00ab72",
   "metadata": {},
   "outputs": [],
   "source": [
    "solution = solution.reshape(zdim, ydim, xdim)\n",
    "\n",
    "ex = np.float32((solution[:-1,:-1,1:] - solution[:-1,:-1,:-1])/cell_width) \n",
    "ey = np.float32((solution[:-1,1:,:-1] - solution[:-1,:-1,:-1])/cell_height) \n",
    "ez = np.float32((solution[1:,:-1,:-1] - solution[:-1,:-1,:-1])/cell_depth) "
   ]
  },
  {
   "cell_type": "code",
   "execution_count": null,
   "id": "57abc469-1669-46f1-be67-bdbc1bb9a1bb",
   "metadata": {},
   "outputs": [],
   "source": [
    "chunk_offset=[0,0,0]\n",
    "chunk_size = [zdim-1, ydim-1, xdim-1]\n",
    "# write the calculate chunk of the field \n",
    "output_iteration.meshes['E']['x'].store_chunk(ex.reshape(xdim-1, ydim-1, zdim-1))#, chunk_offset, chunk_size)\n",
    "output_iteration.meshes['E']['y'].store_chunk(ey.reshape(xdim-1, ydim-1, zdim-1))#, chunk_offset, chunk_size)\n",
    "output_iteration.meshes['E']['z'].store_chunk(ez.reshape(xdim-1, ydim-1, zdim-1))#, chunk_offset, chunk_size)\n",
    "output_iteration.meshes['B']['x'].store_chunk(bx.reshape(xdim-1, ydim-1, zdim-1))#, chunk_offset, chunk_size)\n",
    "output_iteration.meshes['B']['y'].store_chunk(by.reshape(xdim-1, ydim-1, zdim-1))#, chunk_offset, chunk_size)\n",
    "output_iteration.meshes['B']['z'].store_chunk(bz.reshape(xdim-1, ydim-1, zdim-1))#, chunk_offset, chunk_size)\n",
    "files.write_series.flush()\n",
    "\n",
    "print('done')"
   ]
  },
  {
   "cell_type": "markdown",
   "id": "0b64541f-a9b6-43f3-845d-4de3b19676ab",
   "metadata": {
    "tags": []
   },
   "source": [
    "## When finished with all field chunks\n",
    "you can write the other data to the file, except E, B fields that we wrote with this program"
   ]
  },
  {
   "cell_type": "code",
   "execution_count": null,
   "id": "fc34aac0-7700-4917-81c4-776b36cd9fef",
   "metadata": {},
   "outputs": [],
   "source": [
    "del ex, ey, ez\n",
    "del bx, by, bz"
   ]
  },
  {
   "cell_type": "code",
   "execution_count": null,
   "id": "4d73a834-5206-4318-b355-51bc336ae1c7",
   "metadata": {},
   "outputs": [],
   "source": [
    "# free memory for copy\n",
    "del charge\n",
    "del xpos\n",
    "del ypos\n",
    "del zpos\n",
    "del momentumx\n",
    "del momentumy\n",
    "del momentumz\n",
    "del mass\n",
    "del weighting"
   ]
  },
  {
   "cell_type": "code",
   "execution_count": null,
   "id": "c88f2d81-6d83-49a9-9ade-de66d5fbaf26",
   "metadata": {},
   "outputs": [],
   "source": [
    "files.copy(exclude_mesh=['E', 'B'])"
   ]
  },
  {
   "cell_type": "markdown",
   "id": "8e358894-7089-4811-a8d0-5eab7e741b83",
   "metadata": {},
   "source": [
    "# Visualization of the fields if necessary"
   ]
  },
  {
   "cell_type": "markdown",
   "id": "de532207-001b-46bb-9127-092d7784c6b6",
   "metadata": {},
   "source": [
    "and other stuff, not realy documented with comments"
   ]
  },
  {
   "cell_type": "markdown",
   "id": "b3188b42-1a92-43e7-ae7e-d992bcda51ab",
   "metadata": {},
   "source": [
    "## absolute field values"
   ]
  },
  {
   "cell_type": "code",
   "execution_count": null,
   "id": "49779d2f-4d44-4e08-94d4-58ecfa17ef9b",
   "metadata": {},
   "outputs": [],
   "source": [
    "# absolute values of the fields\n",
    "ef = np.sqrt(ex**2+ey**2+ez**2)\n",
    "bf = np.sqrt(bx**2+by**2+bz**2)"
   ]
  },
  {
   "cell_type": "code",
   "execution_count": null,
   "id": "89cccdc8-d98b-4aab-9f79-31c9d60abf78",
   "metadata": {},
   "outputs": [],
   "source": [
    "plt.figure(figsize=(15,15))\n",
    "depth = 12\n",
    "plt.imshow(((ex.reshape(zdim-1, ydim-1, xdim-1)[depth,:,:].T)))\n",
    "#plt.xlim(290, 320)\n",
    "#plt.ylim(160,200)\n",
    "plt.colorbar()\n",
    "plt.show()"
   ]
  },
  {
   "cell_type": "code",
   "execution_count": null,
   "id": "5a03f391-0415-4a1d-86ea-69112e89d8d5",
   "metadata": {},
   "outputs": [],
   "source": [
    "print(xpos, ypos, zpos)"
   ]
  },
  {
   "cell_type": "markdown",
   "id": "8d129ada-85fc-4a09-a2d0-55f5a80e4f22",
   "metadata": {},
   "source": [
    "## show particle positions"
   ]
  },
  {
   "cell_type": "code",
   "execution_count": null,
   "id": "fca4b9f8-c549-4c05-bbf4-bc88a14ca742",
   "metadata": {},
   "outputs": [],
   "source": [
    "plt.figure(figsize=(15,15))\n",
    "a = np.histogram2d(xpos, ypos, weights=weightings, bins=[np.linspace(0, xdim, xdim+1), np.linspace(0, ydim, ydim+1)] )\n",
    "plt.imshow(a[0])\n",
    "plt.xlabel(\"y cells\")\n",
    "plt.ylabel(\"x cells\")\n",
    "plt.show()"
   ]
  },
  {
   "cell_type": "code",
   "execution_count": null,
   "id": "efc588cc-7f91-4c87-a55b-f5f51e6471b8",
   "metadata": {},
   "outputs": [],
   "source": [
    "del ex_d\n",
    "del ey_d\n",
    "del ez_d\n",
    "del bx_d\n",
    "del by_d\n",
    "del bz_d"
   ]
  },
  {
   "cell_type": "code",
   "execution_count": null,
   "id": "573c2aaf-6245-46c6-bee2-a68b573c6acb",
   "metadata": {},
   "outputs": [],
   "source": [
    "del writeSeries"
   ]
  },
  {
   "cell_type": "code",
   "execution_count": null,
   "id": "5e7d86df-8cfe-4534-90ca-65f04dd692f2",
   "metadata": {},
   "outputs": [],
   "source": []
  },
  {
   "cell_type": "code",
   "execution_count": null,
   "id": "9492bf31-2cce-4a57-96c4-f58151677718",
   "metadata": {},
   "outputs": [],
   "source": []
  },
  {
   "cell_type": "code",
   "execution_count": null,
   "id": "223c190d-dbc4-4d2d-9ccb-f8f3a696907a",
   "metadata": {},
   "outputs": [],
   "source": []
  },
  {
   "cell_type": "code",
   "execution_count": null,
   "id": "845d7a35-733c-4fe3-8cb6-4466a101ee3a",
   "metadata": {},
   "outputs": [],
   "source": []
  },
  {
   "cell_type": "markdown",
   "id": "4fb771b5-3071-47b6-b784-1d2396b023d6",
   "metadata": {},
   "source": [
    "## Further calculations for the generated data\n",
    "the expected values are\n",
    "\n",
    "\\begin{equation}\n",
    "\\vec{\\nabla} \\cdot \\vec{E} = \\frac{\\rho(\\vec{r})}{\\epsilon_0}\n",
    "\\end{equation}\n",
    "\n",
    "\\begin{equation}\n",
    "\\vec{\\nabla} \\times \\vec{E} = 0\n",
    "\\end{equation}\n",
    "\n",
    "\\begin{equation}\n",
    "\\vec{\\nabla} \\cdot \\vec{B} = 0\n",
    "\\end{equation}\n"
   ]
  },
  {
   "cell_type": "code",
   "execution_count": null,
   "id": "9c3f112c-efdd-4a75-ad03-6cd5c40c3b4c",
   "metadata": {},
   "outputs": [],
   "source": [
    "ex = ex.reshape(zdim-1, ydim-1, xdim-1)\n",
    "ey = ey.reshape(zdim-1, ydim-1, xdim-1)\n",
    "ez = ez.reshape(zdim-1, ydim-1, xdim-1)\n",
    "\n",
    "bx = bx.reshape(zdim-1, ydim-1, xdim-1)\n",
    "by = by.reshape(zdim-1, ydim-1, xdim-1)\n",
    "bz = bz.reshape(zdim-1, ydim-1, xdim-1)\n",
    "\n",
    "divE = ((ex[1:, 1:, 1:] - ex[1:, 1:, :-1]) / cell_width +\n",
    "           (ey[1:, 1:, 1:] - ey[1:, :-1, 1:]) / cell_height +\n",
    "           (ez[1:, 1:, 1:] - ez[:-1, 1:, 1:]) / cell_depth)\n",
    "\n",
    "divB = ((bx[1:, 1:, 1:] - bx[1:, 1:, :-1]) / cell_width +\n",
    "       (by[1:, 1:, 1:] - by[1:, :-1, 1:]) / cell_height +\n",
    "       (bz[1:, 1:, 1:] - bz[:-1, 1:, 1:]) / cell_depth) * unit_bfield * 299792458 / unit_length * scipy.constants.epsilon_0\n"
   ]
  },
  {
   "cell_type": "code",
   "execution_count": null,
   "id": "ec88871f-5ab3-481b-ab6e-c87e1c927d81",
   "metadata": {},
   "outputs": [],
   "source": [
    "print(np.sum(divE))\n",
    "plt.figure(figsize=(20,20))\n",
    "field = divE[15].T#-charge_density_global[15,1:-1,1:-1].T/eps0\n",
    "plt.imshow(((field)))\n",
    "#plt.xlim(200,400)\n",
    "#plt.ylim(300,450)\n",
    "plt.colorbar()"
   ]
  },
  {
   "cell_type": "code",
   "execution_count": null,
   "id": "7673ebd2-ce4f-4833-92b1-f3dd05c81a0f",
   "metadata": {},
   "outputs": [],
   "source": [
    "del divE, divB"
   ]
  },
  {
   "cell_type": "code",
   "execution_count": null,
   "id": "43a8b914-b9b9-4735-aa9b-24b3645b3cc0",
   "metadata": {},
   "outputs": [],
   "source": [
    "plt.figure(figsize=(15,15))\n",
    "plt.imshow(unit_efield*ez[:,:,128])\n",
    "plt.colorbar()\n",
    "plt.xlim(120,140)\n",
    "plt.ylim(120,140)"
   ]
  },
  {
   "cell_type": "code",
   "execution_count": null,
   "id": "998bfdd7-da34-486a-a593-441a1eaec299",
   "metadata": {},
   "outputs": [],
   "source": []
  },
  {
   "cell_type": "code",
   "execution_count": null,
   "id": "da4b3e11-c818-4f0e-9951-93a4573ccd73",
   "metadata": {
    "tags": []
   },
   "outputs": [],
   "source": [
    "xx,yy,zz = 50,50,50    # width height depth - x y z\n",
    "curlEx = np.zeros_like(ex)\n",
    "curlEy = np.zeros_like(ex)\n",
    "curlEz = np.zeros_like(ex)\n",
    "curlBx = np.zeros_like(ex)\n",
    "curlBy = np.zeros_like(ex)\n",
    "curlBz = np.zeros_like(ex)\n",
    "\n",
    "#for x in np.arange(100, 160):\n",
    "#    for y in np.arange(100, 160):\n",
    "#        for z in np.arange(100, 160):\n",
    "#            curlEx[z,y,x] = (ez[z, y+1, x] - ez[z, y, x]) / cell_height - (ey[z+1, y, x] - ey[z, y, x]) / cell_depth\n",
    "#            curlEy[z,y,x] = (ex[z+1, y, x] - ex[z, y, x]) / cell_depth  - (ez[z, y, x+1] - ez[z, y, x]) / cell_width\n",
    "#            curlEz[z,y,x] = (ey[z, y, x+1] - ey[z, y, x]) / cell_width  - (ex[z, y+1, x] - ex[z, y, x]) / cell_height\n",
    "#\n",
    "#            curlBx[z,y,x] = (bz[z, y, x] - bz[z, y-1, x]) / cell_height - (by[z, y, x] - by[z-1, y, x]) / cell_depth\n",
    "#            curlBy[z,y,x] = (bx[z, y, x] - bz[z-1, y, x]) / cell_depth  - (bz[z, y, x] - bz[z, y, x-1]) / cell_width\n",
    "#            curlBz[z,y,x] = (by[z, y, x] - bz[z, y, x-1]) / cell_width  - (bx[z, y, x] - by[z, y-1, x]) / cell_height\n",
    "\n",
    "\n",
    "curlEx = (ez[:-1, 1:, :-1] - ez[:-1, :-1, :-1]) / cell_height - (ey[1:, :-1, :-1] - ey[:-1, :-1, :-1]) / cell_depth\n",
    "curlEy = (ex[1:, :-1, :-1] - ex[:-1, :-1, :-1]) / cell_depth  - (ez[:-1, :-1, 1:] - ez[:-1, :-1, :-1]) / cell_width\n",
    "curlEz = (ey[:-1, :-1, 1:] - ey[:-1, :-1, :-1]) / cell_width  - (ex[:-1, 1:, :-1] - ex[:-1, :-1, :-1]) / cell_height\n",
    "curlBx = (bz[1:, 1:, 1:] - bz[1:, :-1, 1:]) / cell_height - (by[1:, 1:, 1:] - by[:-1, 1:, 1:]) / cell_depth\n",
    "curlBy = (bx[1:, 1:, 1:] - bz[:-1, 1:, 1:]) / cell_depth  - (bz[1:, 1:, 1:] - bz[1:, 1:, :-1]) / cell_width\n",
    "curlBz = (by[1:, 1:, 1:] - bz[1:, 1:, :-1]) / cell_width  - (bx[1:, 1:, 1:] - by[1:, :-1, 1:]) / cell_height"
   ]
  },
  {
   "cell_type": "code",
   "execution_count": null,
   "id": "91bfd526-64c8-42b5-a8a2-df19f20e848a",
   "metadata": {},
   "outputs": [],
   "source": [
    "plt.figure(figsize=(10,10))\n",
    "field = curlEz[374,:,:].T\n",
    "plt.imshow(((field)))\n",
    "plt.xlim(250,350)\n",
    "plt.ylim(300,500)\n",
    "plt.colorbar()"
   ]
  },
  {
   "cell_type": "code",
   "execution_count": null,
   "id": "bc58308f-65c1-4ffa-9215-c900ca55da20",
   "metadata": {},
   "outputs": [],
   "source": []
  }
 ],
 "metadata": {
  "kernelspec": {
   "display_name": "Python 3 (ipykernel)",
   "language": "python",
   "name": "python3"
  },
  "language_info": {
   "codemirror_mode": {
    "name": "ipython",
    "version": 3
   },
   "file_extension": ".py",
   "mimetype": "text/x-python",
   "name": "python",
   "nbconvert_exporter": "python",
   "pygments_lexer": "ipython3",
   "version": "3.9.12"
  }
 },
 "nbformat": 4,
 "nbformat_minor": 5
}
