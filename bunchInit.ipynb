{
 "cells": [
  {
   "cell_type": "code",
   "execution_count": 17,
   "id": "bb61b395-541f-4985-81fc-96d60b1fbf45",
   "metadata": {},
   "outputs": [
    {
     "name": "stdout",
     "output_type": "stream",
     "text": [
      "Populating the interactive namespace from numpy and matplotlib\n"
     ]
    }
   ],
   "source": [
    "%pylab inline\n",
    "import openpmd_api as io\n",
    "import numpy as np\n",
    "from numba import cuda, jit\n",
    "import math\n",
    "import scipy.constants"
   ]
  },
  {
   "cell_type": "code",
   "execution_count": 25,
   "id": "6646086f-be87-4014-b985-bbca20213b3f",
   "metadata": {},
   "outputs": [],
   "source": [
    "path = \"/home/spreng88/runs/BunchInit2/simOutput/checkpoints/checkpoint_%T.h5\"\n",
    "\n",
    "series = io.Series( path, io.Access.read_write)"
   ]
  },
  {
   "cell_type": "code",
   "execution_count": 28,
   "id": "ca29448d-bcba-4506-8b13-4b9914ef8306",
   "metadata": {},
   "outputs": [],
   "source": [
    "# add field to iteration 0\n",
    "iteration = series.iterations[0] \n",
    "\n",
    "cell_depth = iteration.get_attribute(\"cell_depth\")          # z\n",
    "cell_height = iteration.get_attribute(\"cell_height\")        # y\n",
    "cell_width = iteration.get_attribute(\"cell_width\")          # x\n",
    "\n",
    "unit_efield = iteration.get_attribute(\"unit_efield\")\n",
    "unit_bfield = iteration.get_attribute(\"unit_bfield\")\n",
    "unit_charge = iteration.get_attribute(\"unit_charge\")\n",
    "unit_mass = iteration.get_attribute(\"unit_mass\")\n",
    "unit_speed = iteration.get_attribute(\"unit_speed\")\n",
    "unit_length = iteration.get_attribute(\"unit_length\")\n",
    "unit_time = iteration.get_attribute(\"unit_time\")\n",
    "\n",
    "pi = scipy.constants.pi\n",
    "c = scipy.constants.c / unit_speed\n",
    "eps0 = iteration.get_attribute(\"eps0\")\n",
    "mue0 = iteration.get_attribute(\"mue0\")"
   ]
  },
  {
   "cell_type": "code",
   "execution_count": 29,
   "id": "7db0ff10-91d1-4267-b1e9-c9d3ebfba29e",
   "metadata": {},
   "outputs": [],
   "source": [
    "\n",
    "@cuda.jit(device=True)\n",
    "def particleV(px, py, pz, mass):\n",
    "    \"\"\"\n",
    "    calculate particle speed from momentum\n",
    "    \"\"\"\n",
    "    \n",
    "    m2p2 = math.sqrt( (mass)**2 + px**2 + py**2 + pz**2)\n",
    "    \n",
    "    vx = px / m2p2 * c\n",
    "    vy = py / m2p2 * c\n",
    "    vz = pz / m2p2 * c\n",
    "    \n",
    "    return vx, vy, vz\n",
    "\n",
    "@cuda.jit(device=True)\n",
    "def param1(rx,ry,rz, rqx,rqy,rqz, vx,vy,vz):\n",
    "    \"\"\"\n",
    "    calculate some parameters that could be reused\n",
    "    r: position of field calculation\n",
    "    rq: position of charge q at time t\n",
    "    rq_tr: position of charge at retarded time tr\n",
    "    \"\"\"\n",
    "    \n",
    "    #\n",
    "    # solution equation:\n",
    "    # dt = t - tr\n",
    "    # r where we want the field\n",
    "    # rq position of charge\n",
    "    # (c^2 - |v|^2) * dt^2 - 2(r*v - rq*v) * dt + 2 * r*rq - |r|^2 - |rq|^2\n",
    "    #\n",
    "    a = (c**2 - (vx**2 + vy**2 + vz**2))\n",
    "    b = -2 * ((rx-rqx)*vx + (ry-rqy)*vy + (rz-rqz)*vz)\n",
    "    d = 2 * (rx*rqx + ry*rqy + rz*rqz) - (rx**2 + ry**2 + rz**2) - (rqx**2 + rqy**2 + rqz**2)\n",
    "    dt = (-b + math.sqrt(b**2 - 4*a*d)) / (2*a)\n",
    "    \n",
    "    rq_trx = rqx - vx * dt\n",
    "    rq_try = rqy - vy * dt\n",
    "    rq_trz = rqz - vz * dt\n",
    "\n",
    "    dvx = rx - rq_trx\n",
    "    dvy = ry - rq_try\n",
    "    dvz = rz - rq_trz\n",
    "    \n",
    "    distance = math.sqrt(dvx**2 + dvy**2 + dvz**2)\n",
    "    \n",
    "    if distance == 0:\n",
    "        distance = -1\n",
    "    \n",
    "    #n =  distanceVec / distance\n",
    "    nx = dvx / distance\n",
    "    ny = dvy / distance\n",
    "    nz = dvz / distance\n",
    "    \n",
    "    return nx, ny, nz, distance, dvx, dvy, dvz #n, distance, distanceVec\n",
    "\n",
    "@cuda.jit(device=True)\n",
    "def retardedEFieldParallel(q, nx, ny, nz, distance, dvx, dvy, dvz, vx, vy, vz):\n",
    "    \"\"\"\n",
    "    field for one position\n",
    "    q: charge\n",
    "    nx, ny, nz: unit vector to retarded position\n",
    "    distance: distance to retarded position\n",
    "    dvx, dvy, dvz: distance Vector to retarded position\n",
    "    vx, vy, vz: velocity vector of the charge\n",
    "    \"\"\"\n",
    "    \n",
    "    if distance == -1:\n",
    "        nx = 1\n",
    "        ny = 0\n",
    "        xz = 0\n",
    "    \n",
    "    factor = q / (4 * pi * eps0)\n",
    "    \n",
    "    ux = c * nx - vx\n",
    "    uy = c * ny - vy\n",
    "    uz = c * nz - vz\n",
    "    \n",
    "\n",
    "    scalar = factor * distance / (dvx*ux + dvy*uy + dvz*uz)**3 * (c**2 - (vx**2 + vy**2 + vz**2))\n",
    "    \n",
    "    return  scalar * ux, scalar * uy, scalar * uz\n",
    "\n"
   ]
  },
  {
   "cell_type": "code",
   "execution_count": 30,
   "id": "768327f3-e5ba-4e7a-b2d4-536cafb14301",
   "metadata": {},
   "outputs": [],
   "source": [
    "@cuda.jit\n",
    "def particleParallel(Ex,Ey,Ez, Bx,By,Bz, q_, rqx_,rqy_,rqz_, px_,py_,pz_, mass_, weighting_, xdim, ydim, zdim):\n",
    "    \"\"\"\n",
    "    Ex,Ey,Ez E field where new field is added\n",
    "    Bx,By,Bz B -\"-\n",
    "    \n",
    "    _ is on all input arrays read from checkpoint \n",
    "    q_ array from checkpoint with charges\n",
    "    rq_ position data of particles\n",
    "    p_ momentum of particles\n",
    "    \n",
    "    xdim, ydim, zdim length of dimension of Ex,Bx, ...\n",
    "    Ex/Bx need to be 1D for atomic add\n",
    "    \"\"\"\n",
    "    tix = cuda.threadIdx.x\n",
    "    bix = cuda.blockIdx.x\n",
    "    bdx = cuda.blockDim.x\n",
    "    \n",
    "    index = tix + bix * bdx    # particle index\n",
    "    \n",
    "    q = q_[index] * weighting_[index]\n",
    "    rqx = rqx_[index] * cell_width\n",
    "    rqy = rqy_[index] * cell_height\n",
    "    rqz = rqz_[index] * cell_depth\n",
    "    px = px_[index]\n",
    "    py = py_[index]\n",
    "    pz = pz_[index]\n",
    "    mass = mass_[index] * weighting_[index]\n",
    "    \n",
    "    for x in range(xdim):\n",
    "        \n",
    "        rx = x * cell_width\n",
    "        rex = (x + 0.5) * cell_width\n",
    "        \n",
    "        for y in range(ydim):\n",
    "            \n",
    "            ry = y * cell_height\n",
    "            rey = (y + 0.5) * cell_height\n",
    "            \n",
    "            for z in range(zdim):    \n",
    "                \n",
    "                rz = z * cell_depth\n",
    "                rez = (z + 0.5) * cell_depth\n",
    "\n",
    "                vx, vy, vz = particleV(px, py, pz, mass)\n",
    "\n",
    "                # x\n",
    "                nxx, nxy, nxz, distancex, dvxx, dvxy, dvxz = param1(rex, ry, rz, rqx, rqy, rqz, vx,vy,vz)\n",
    "                ex, _, _ = retardedEFieldParallel(q, nxx, nxy, nxz, distancex, dvxx, dvxy, dvxz, vx, vy, vz)\n",
    "\n",
    "                # y\n",
    "                nyx, nyy, nyz, distancey, dvyx, dvyy, dvyz = param1(rx, rey, rz, rqx, rqy, rqz, vx,vy,vz)\n",
    "                _, ey, _ = retardedEFieldParallel(q, nyx, nyy, nyz, distancey, dvyx, dvyy, dvyz, vx, vy, vz)\n",
    "\n",
    "                # z\n",
    "                nzx, nzy, nzz, distancez, dvzx, dvzy, dvzz = param1(rx, ry, rez, rqx, rqy, rqz, vx,vy,vz)\n",
    "                _, _, ez = retardedEFieldParallel(q, nzx, nzy, nzz, distancez, dvzx, dvzy, dvzz , vx, vy, vz)\n",
    "                \n",
    "                fieldIndex = x + y * xdim + z * xdim * ydim\n",
    "                \n",
    "                cuda.atomic.add(Ex, fieldIndex, ex)\n",
    "                cuda.atomic.add(Ey, fieldIndex, ey)\n",
    "                cuda.atomic.add(Ez, fieldIndex, ez)\n",
    "                \n",
    "                bx = ( nxy * ez - nxz * ey ) / c\n",
    "                by = ( nxz * ex - nxx * ez ) / c\n",
    "                bz = ( nxx * ey - nxy * ex ) / c\n",
    "\n",
    "                cuda.atomic.add(Bx, fieldIndex, bx)\n",
    "                cuda.atomic.add(By, fieldIndex, by)\n",
    "                cuda.atomic.add(Bz, fieldIndex, bz)"
   ]
  },
  {
   "cell_type": "code",
   "execution_count": 35,
   "id": "7952feba-32f4-4fab-a5c5-d7dd29dee239",
   "metadata": {},
   "outputs": [],
   "source": [
    "species = \"e\"\n",
    "\n",
    "xpos_incell = iteration.particles[species][\"position\"][\"x\"][:]\n",
    "ypos_incell = iteration.particles[species][\"position\"][\"y\"][:]\n",
    "zpos_incell = iteration.particles[species][\"position\"][\"z\"][:]\n",
    "xpos_offset = iteration.particles[species][\"positionOffset\"][\"x\"][:]\n",
    "ypos_offset = iteration.particles[species][\"positionOffset\"][\"y\"][:]\n",
    "zpos_offset = iteration.particles[species][\"positionOffset\"][\"z\"][:]\n",
    "momentumx = iteration.particles[species][\"momentum\"][\"x\"][:]\n",
    "momentumy = iteration.particles[species][\"momentum\"][\"y\"][:]\n",
    "momentumz = iteration.particles[species][\"momentum\"][\"z\"][:]\n",
    "weightings = iteration.particles[species][\"weighting\"][io.Record_Component.SCALAR][:]\n",
    "charge = iteration.particles[species][\"charge\"][io.Record_Component.SCALAR][:]\n",
    "mass = iteration.particles[species][\"mass\"][io.Record_Component.SCALAR][:]\n",
    "\n",
    "series.flush()\n",
    "\n",
    "xpos = xpos_incell + np.float32(xpos_offset)\n",
    "ypos = ypos_incell + np.float32(ypos_offset)\n",
    "zpos = zpos_incell + np.float32(zpos_offset)"
   ]
  },
  {
   "cell_type": "code",
   "execution_count": 32,
   "id": "dc4b5096-449f-4803-b064-ecf82ca02a93",
   "metadata": {
    "collapsed": true,
    "jupyter": {
     "outputs_hidden": true
    },
    "tags": []
   },
   "outputs": [
    {
     "name": "stderr",
     "output_type": "stream",
     "text": [
      "/home/spreng88/miniconda3/envs/picongpu-analysis/lib/python3.9/site-packages/numba/cuda/compiler.py:865: NumbaPerformanceWarning: Grid size (80) < 2 * SM count (160) will likely result in GPU under utilization due to low occupancy.\n",
      "  warn(NumbaPerformanceWarning(msg))\n",
      "/home/spreng88/miniconda3/envs/picongpu-analysis/lib/python3.9/site-packages/numba/cuda/cudadrv/devicearray.py:790: NumbaPerformanceWarning: Host array used in CUDA kernel will incur copy overhead to/from device.\n",
      "  warn(NumbaPerformanceWarning(msg))\n"
     ]
    },
    {
     "ename": "CudaAPIError",
     "evalue": "[700] Call to cuMemcpyDtoH results in UNKNOWN_CUDA_ERROR",
     "output_type": "error",
     "traceback": [
      "\u001b[0;31m---------------------------------------------------------------------------\u001b[0m",
      "\u001b[0;31mCudaAPIError\u001b[0m                              Traceback (most recent call last)",
      "\u001b[0;32m/tmp/spreng88/ipykernel_2622210/2058049289.py\u001b[0m in \u001b[0;36m<module>\u001b[0;34m\u001b[0m\n\u001b[1;32m     11\u001b[0m \u001b[0;34m\u001b[0m\u001b[0m\n\u001b[1;32m     12\u001b[0m \u001b[0mstarttime\u001b[0m \u001b[0;34m=\u001b[0m \u001b[0mtime\u001b[0m\u001b[0;34m.\u001b[0m\u001b[0mtime\u001b[0m\u001b[0;34m(\u001b[0m\u001b[0;34m)\u001b[0m\u001b[0;34m\u001b[0m\u001b[0;34m\u001b[0m\u001b[0m\n\u001b[0;32m---> 13\u001b[0;31m \u001b[0mparticleParallel\u001b[0m\u001b[0;34m[\u001b[0m\u001b[0;36m80\u001b[0m\u001b[0;34m,\u001b[0m \u001b[0;36m32\u001b[0m\u001b[0;34m]\u001b[0m\u001b[0;34m(\u001b[0m\u001b[0mex\u001b[0m\u001b[0;34m,\u001b[0m \u001b[0mey\u001b[0m\u001b[0;34m,\u001b[0m \u001b[0mez\u001b[0m\u001b[0;34m,\u001b[0m \u001b[0mbx\u001b[0m\u001b[0;34m,\u001b[0m \u001b[0mby\u001b[0m\u001b[0;34m,\u001b[0m \u001b[0mbz\u001b[0m\u001b[0;34m,\u001b[0m \u001b[0mcharge\u001b[0m\u001b[0;34m,\u001b[0m \u001b[0mxpos\u001b[0m\u001b[0;34m,\u001b[0m \u001b[0mypos\u001b[0m\u001b[0;34m,\u001b[0m \u001b[0mzpos\u001b[0m\u001b[0;34m,\u001b[0m \u001b[0mmomentumx\u001b[0m\u001b[0;34m,\u001b[0m \u001b[0mmomentumy\u001b[0m\u001b[0;34m,\u001b[0m \u001b[0mmomentumz\u001b[0m\u001b[0;34m,\u001b[0m \u001b[0mmass\u001b[0m\u001b[0;34m,\u001b[0m \u001b[0mweightings\u001b[0m\u001b[0;34m,\u001b[0m \u001b[0mxdim\u001b[0m\u001b[0;34m,\u001b[0m \u001b[0mydim\u001b[0m\u001b[0;34m,\u001b[0m \u001b[0mzdim\u001b[0m\u001b[0;34m)\u001b[0m\u001b[0;34m\u001b[0m\u001b[0;34m\u001b[0m\u001b[0m\n\u001b[0m\u001b[1;32m     14\u001b[0m \u001b[0mprint\u001b[0m\u001b[0;34m(\u001b[0m\u001b[0mtime\u001b[0m\u001b[0;34m.\u001b[0m\u001b[0mtime\u001b[0m\u001b[0;34m(\u001b[0m\u001b[0;34m)\u001b[0m\u001b[0;34m-\u001b[0m\u001b[0mstarttime\u001b[0m\u001b[0;34m)\u001b[0m\u001b[0;34m\u001b[0m\u001b[0;34m\u001b[0m\u001b[0m\n",
      "\u001b[0;32m~/miniconda3/envs/picongpu-analysis/lib/python3.9/site-packages/numba/cuda/compiler.py\u001b[0m in \u001b[0;36m__call__\u001b[0;34m(self, *args)\u001b[0m\n\u001b[1;32m    866\u001b[0m \u001b[0;34m\u001b[0m\u001b[0m\n\u001b[1;32m    867\u001b[0m     \u001b[0;32mdef\u001b[0m \u001b[0m__call__\u001b[0m\u001b[0;34m(\u001b[0m\u001b[0mself\u001b[0m\u001b[0;34m,\u001b[0m \u001b[0;34m*\u001b[0m\u001b[0margs\u001b[0m\u001b[0;34m)\u001b[0m\u001b[0;34m:\u001b[0m\u001b[0;34m\u001b[0m\u001b[0;34m\u001b[0m\u001b[0m\n\u001b[0;32m--> 868\u001b[0;31m         return self.dispatcher.call(args, self.griddim, self.blockdim,\n\u001b[0m\u001b[1;32m    869\u001b[0m                                     self.stream, self.sharedmem)\n\u001b[1;32m    870\u001b[0m \u001b[0;34m\u001b[0m\u001b[0m\n",
      "\u001b[0;32m~/miniconda3/envs/picongpu-analysis/lib/python3.9/site-packages/numba/cuda/compiler.py\u001b[0m in \u001b[0;36mcall\u001b[0;34m(self, args, griddim, blockdim, stream, sharedmem)\u001b[0m\n\u001b[1;32m   1001\u001b[0m             \u001b[0mkernel\u001b[0m \u001b[0;34m=\u001b[0m \u001b[0m_dispatcher\u001b[0m\u001b[0;34m.\u001b[0m\u001b[0mDispatcher\u001b[0m\u001b[0;34m.\u001b[0m\u001b[0m_cuda_call\u001b[0m\u001b[0;34m(\u001b[0m\u001b[0mself\u001b[0m\u001b[0;34m,\u001b[0m \u001b[0;34m*\u001b[0m\u001b[0margs\u001b[0m\u001b[0;34m)\u001b[0m\u001b[0;34m\u001b[0m\u001b[0;34m\u001b[0m\u001b[0m\n\u001b[1;32m   1002\u001b[0m \u001b[0;34m\u001b[0m\u001b[0m\n\u001b[0;32m-> 1003\u001b[0;31m         \u001b[0mkernel\u001b[0m\u001b[0;34m.\u001b[0m\u001b[0mlaunch\u001b[0m\u001b[0;34m(\u001b[0m\u001b[0margs\u001b[0m\u001b[0;34m,\u001b[0m \u001b[0mgriddim\u001b[0m\u001b[0;34m,\u001b[0m \u001b[0mblockdim\u001b[0m\u001b[0;34m,\u001b[0m \u001b[0mstream\u001b[0m\u001b[0;34m,\u001b[0m \u001b[0msharedmem\u001b[0m\u001b[0;34m)\u001b[0m\u001b[0;34m\u001b[0m\u001b[0;34m\u001b[0m\u001b[0m\n\u001b[0m\u001b[1;32m   1004\u001b[0m \u001b[0;34m\u001b[0m\u001b[0m\n\u001b[1;32m   1005\u001b[0m     \u001b[0;32mdef\u001b[0m \u001b[0m_compile_for_args\u001b[0m\u001b[0;34m(\u001b[0m\u001b[0mself\u001b[0m\u001b[0;34m,\u001b[0m \u001b[0;34m*\u001b[0m\u001b[0margs\u001b[0m\u001b[0;34m,\u001b[0m \u001b[0;34m**\u001b[0m\u001b[0mkws\u001b[0m\u001b[0;34m)\u001b[0m\u001b[0;34m:\u001b[0m\u001b[0;34m\u001b[0m\u001b[0;34m\u001b[0m\u001b[0m\n",
      "\u001b[0;32m~/miniconda3/envs/picongpu-analysis/lib/python3.9/site-packages/numba/cuda/compiler.py\u001b[0m in \u001b[0;36mlaunch\u001b[0;34m(self, args, griddim, blockdim, stream, sharedmem)\u001b[0m\n\u001b[1;32m    771\u001b[0m         \u001b[0;31m# retrieve auto converted arrays\u001b[0m\u001b[0;34m\u001b[0m\u001b[0;34m\u001b[0m\u001b[0;34m\u001b[0m\u001b[0m\n\u001b[1;32m    772\u001b[0m         \u001b[0;32mfor\u001b[0m \u001b[0mwb\u001b[0m \u001b[0;32min\u001b[0m \u001b[0mretr\u001b[0m\u001b[0;34m:\u001b[0m\u001b[0;34m\u001b[0m\u001b[0;34m\u001b[0m\u001b[0m\n\u001b[0;32m--> 773\u001b[0;31m             \u001b[0mwb\u001b[0m\u001b[0;34m(\u001b[0m\u001b[0;34m)\u001b[0m\u001b[0;34m\u001b[0m\u001b[0;34m\u001b[0m\u001b[0m\n\u001b[0m\u001b[1;32m    774\u001b[0m \u001b[0;34m\u001b[0m\u001b[0m\n\u001b[1;32m    775\u001b[0m     \u001b[0;32mdef\u001b[0m \u001b[0m_prepare_args\u001b[0m\u001b[0;34m(\u001b[0m\u001b[0mself\u001b[0m\u001b[0;34m,\u001b[0m \u001b[0mty\u001b[0m\u001b[0;34m,\u001b[0m \u001b[0mval\u001b[0m\u001b[0;34m,\u001b[0m \u001b[0mstream\u001b[0m\u001b[0;34m,\u001b[0m \u001b[0mretr\u001b[0m\u001b[0;34m,\u001b[0m \u001b[0mkernelargs\u001b[0m\u001b[0;34m)\u001b[0m\u001b[0;34m:\u001b[0m\u001b[0;34m\u001b[0m\u001b[0;34m\u001b[0m\u001b[0m\n",
      "\u001b[0;32m~/miniconda3/envs/picongpu-analysis/lib/python3.9/site-packages/numba/cuda/args.py\u001b[0m in \u001b[0;36m<lambda>\u001b[0;34m()\u001b[0m\n\u001b[1;32m     60\u001b[0m             stream=stream)\n\u001b[1;32m     61\u001b[0m         \u001b[0;32mif\u001b[0m \u001b[0mconv\u001b[0m\u001b[0;34m:\u001b[0m\u001b[0;34m\u001b[0m\u001b[0;34m\u001b[0m\u001b[0m\n\u001b[0;32m---> 62\u001b[0;31m             \u001b[0mretr\u001b[0m\u001b[0;34m.\u001b[0m\u001b[0mappend\u001b[0m\u001b[0;34m(\u001b[0m\u001b[0;32mlambda\u001b[0m\u001b[0;34m:\u001b[0m \u001b[0mdevary\u001b[0m\u001b[0;34m.\u001b[0m\u001b[0mcopy_to_host\u001b[0m\u001b[0;34m(\u001b[0m\u001b[0mself\u001b[0m\u001b[0;34m.\u001b[0m\u001b[0mvalue\u001b[0m\u001b[0;34m,\u001b[0m \u001b[0mstream\u001b[0m\u001b[0;34m=\u001b[0m\u001b[0mstream\u001b[0m\u001b[0;34m)\u001b[0m\u001b[0;34m)\u001b[0m\u001b[0;34m\u001b[0m\u001b[0;34m\u001b[0m\u001b[0m\n\u001b[0m\u001b[1;32m     63\u001b[0m         \u001b[0;32mreturn\u001b[0m \u001b[0mdevary\u001b[0m\u001b[0;34m\u001b[0m\u001b[0;34m\u001b[0m\u001b[0m\n\u001b[1;32m     64\u001b[0m \u001b[0;34m\u001b[0m\u001b[0m\n",
      "\u001b[0;32m~/miniconda3/envs/picongpu-analysis/lib/python3.9/site-packages/numba/cuda/cudadrv/devices.py\u001b[0m in \u001b[0;36m_require_cuda_context\u001b[0;34m(*args, **kws)\u001b[0m\n\u001b[1;32m    222\u001b[0m     \u001b[0;32mdef\u001b[0m \u001b[0m_require_cuda_context\u001b[0m\u001b[0;34m(\u001b[0m\u001b[0;34m*\u001b[0m\u001b[0margs\u001b[0m\u001b[0;34m,\u001b[0m \u001b[0;34m**\u001b[0m\u001b[0mkws\u001b[0m\u001b[0;34m)\u001b[0m\u001b[0;34m:\u001b[0m\u001b[0;34m\u001b[0m\u001b[0;34m\u001b[0m\u001b[0m\n\u001b[1;32m    223\u001b[0m         \u001b[0;32mwith\u001b[0m \u001b[0m_runtime\u001b[0m\u001b[0;34m.\u001b[0m\u001b[0mensure_context\u001b[0m\u001b[0;34m(\u001b[0m\u001b[0;34m)\u001b[0m\u001b[0;34m:\u001b[0m\u001b[0;34m\u001b[0m\u001b[0;34m\u001b[0m\u001b[0m\n\u001b[0;32m--> 224\u001b[0;31m             \u001b[0;32mreturn\u001b[0m \u001b[0mfn\u001b[0m\u001b[0;34m(\u001b[0m\u001b[0;34m*\u001b[0m\u001b[0margs\u001b[0m\u001b[0;34m,\u001b[0m \u001b[0;34m**\u001b[0m\u001b[0mkws\u001b[0m\u001b[0;34m)\u001b[0m\u001b[0;34m\u001b[0m\u001b[0;34m\u001b[0m\u001b[0m\n\u001b[0m\u001b[1;32m    225\u001b[0m \u001b[0;34m\u001b[0m\u001b[0m\n\u001b[1;32m    226\u001b[0m     \u001b[0;32mreturn\u001b[0m \u001b[0m_require_cuda_context\u001b[0m\u001b[0;34m\u001b[0m\u001b[0;34m\u001b[0m\u001b[0m\n",
      "\u001b[0;32m~/miniconda3/envs/picongpu-analysis/lib/python3.9/site-packages/numba/cuda/cudadrv/devicearray.py\u001b[0m in \u001b[0;36mcopy_to_host\u001b[0;34m(self, ary, stream)\u001b[0m\n\u001b[1;32m    261\u001b[0m \u001b[0;34m\u001b[0m\u001b[0m\n\u001b[1;32m    262\u001b[0m         \u001b[0;32mif\u001b[0m \u001b[0mself\u001b[0m\u001b[0;34m.\u001b[0m\u001b[0malloc_size\u001b[0m \u001b[0;34m!=\u001b[0m \u001b[0;36m0\u001b[0m\u001b[0;34m:\u001b[0m\u001b[0;34m\u001b[0m\u001b[0;34m\u001b[0m\u001b[0m\n\u001b[0;32m--> 263\u001b[0;31m             _driver.device_to_host(hostary, self, self.alloc_size,\n\u001b[0m\u001b[1;32m    264\u001b[0m                                    stream=stream)\n\u001b[1;32m    265\u001b[0m \u001b[0;34m\u001b[0m\u001b[0m\n",
      "\u001b[0;32m~/miniconda3/envs/picongpu-analysis/lib/python3.9/site-packages/numba/cuda/cudadrv/driver.py\u001b[0m in \u001b[0;36mdevice_to_host\u001b[0;34m(dst, src, size, stream)\u001b[0m\n\u001b[1;32m   2429\u001b[0m         \u001b[0mfn\u001b[0m \u001b[0;34m=\u001b[0m \u001b[0mdriver\u001b[0m\u001b[0;34m.\u001b[0m\u001b[0mcuMemcpyDtoH\u001b[0m\u001b[0;34m\u001b[0m\u001b[0;34m\u001b[0m\u001b[0m\n\u001b[1;32m   2430\u001b[0m \u001b[0;34m\u001b[0m\u001b[0m\n\u001b[0;32m-> 2431\u001b[0;31m     \u001b[0mfn\u001b[0m\u001b[0;34m(\u001b[0m\u001b[0mhost_pointer\u001b[0m\u001b[0;34m(\u001b[0m\u001b[0mdst\u001b[0m\u001b[0;34m)\u001b[0m\u001b[0;34m,\u001b[0m \u001b[0mdevice_pointer\u001b[0m\u001b[0;34m(\u001b[0m\u001b[0msrc\u001b[0m\u001b[0;34m)\u001b[0m\u001b[0;34m,\u001b[0m \u001b[0msize\u001b[0m\u001b[0;34m,\u001b[0m \u001b[0;34m*\u001b[0m\u001b[0mvarargs\u001b[0m\u001b[0;34m)\u001b[0m\u001b[0;34m\u001b[0m\u001b[0;34m\u001b[0m\u001b[0m\n\u001b[0m\u001b[1;32m   2432\u001b[0m \u001b[0;34m\u001b[0m\u001b[0m\n\u001b[1;32m   2433\u001b[0m \u001b[0;34m\u001b[0m\u001b[0m\n",
      "\u001b[0;32m~/miniconda3/envs/picongpu-analysis/lib/python3.9/site-packages/numba/cuda/cudadrv/driver.py\u001b[0m in \u001b[0;36msafe_cuda_api_call\u001b[0;34m(*args)\u001b[0m\n\u001b[1;32m    301\u001b[0m             \u001b[0m_logger\u001b[0m\u001b[0;34m.\u001b[0m\u001b[0mdebug\u001b[0m\u001b[0;34m(\u001b[0m\u001b[0;34m'call driver api: %s'\u001b[0m\u001b[0;34m,\u001b[0m \u001b[0mlibfn\u001b[0m\u001b[0;34m.\u001b[0m\u001b[0m__name__\u001b[0m\u001b[0;34m)\u001b[0m\u001b[0;34m\u001b[0m\u001b[0;34m\u001b[0m\u001b[0m\n\u001b[1;32m    302\u001b[0m             \u001b[0mretcode\u001b[0m \u001b[0;34m=\u001b[0m \u001b[0mlibfn\u001b[0m\u001b[0;34m(\u001b[0m\u001b[0;34m*\u001b[0m\u001b[0margs\u001b[0m\u001b[0;34m)\u001b[0m\u001b[0;34m\u001b[0m\u001b[0;34m\u001b[0m\u001b[0m\n\u001b[0;32m--> 303\u001b[0;31m             \u001b[0mself\u001b[0m\u001b[0;34m.\u001b[0m\u001b[0m_check_error\u001b[0m\u001b[0;34m(\u001b[0m\u001b[0mfname\u001b[0m\u001b[0;34m,\u001b[0m \u001b[0mretcode\u001b[0m\u001b[0;34m)\u001b[0m\u001b[0;34m\u001b[0m\u001b[0;34m\u001b[0m\u001b[0m\n\u001b[0m\u001b[1;32m    304\u001b[0m \u001b[0;34m\u001b[0m\u001b[0m\n\u001b[1;32m    305\u001b[0m         \u001b[0;32mif\u001b[0m \u001b[0mconfig\u001b[0m\u001b[0;34m.\u001b[0m\u001b[0mCUDA_LOG_API_ARGS\u001b[0m\u001b[0;34m:\u001b[0m\u001b[0;34m\u001b[0m\u001b[0;34m\u001b[0m\u001b[0m\n",
      "\u001b[0;32m~/miniconda3/envs/picongpu-analysis/lib/python3.9/site-packages/numba/cuda/cudadrv/driver.py\u001b[0m in \u001b[0;36m_check_error\u001b[0;34m(self, fname, retcode)\u001b[0m\n\u001b[1;32m    341\u001b[0m                     \u001b[0m_logger\u001b[0m\u001b[0;34m.\u001b[0m\u001b[0mcritical\u001b[0m\u001b[0;34m(\u001b[0m\u001b[0mmsg\u001b[0m\u001b[0;34m,\u001b[0m \u001b[0m_getpid\u001b[0m\u001b[0;34m(\u001b[0m\u001b[0;34m)\u001b[0m\u001b[0;34m,\u001b[0m \u001b[0mself\u001b[0m\u001b[0;34m.\u001b[0m\u001b[0mpid\u001b[0m\u001b[0;34m)\u001b[0m\u001b[0;34m\u001b[0m\u001b[0;34m\u001b[0m\u001b[0m\n\u001b[1;32m    342\u001b[0m                     \u001b[0;32mraise\u001b[0m \u001b[0mCudaDriverError\u001b[0m\u001b[0;34m(\u001b[0m\u001b[0;34m\"CUDA initialized before forking\"\u001b[0m\u001b[0;34m)\u001b[0m\u001b[0;34m\u001b[0m\u001b[0;34m\u001b[0m\u001b[0m\n\u001b[0;32m--> 343\u001b[0;31m             \u001b[0;32mraise\u001b[0m \u001b[0mCudaAPIError\u001b[0m\u001b[0;34m(\u001b[0m\u001b[0mretcode\u001b[0m\u001b[0;34m,\u001b[0m \u001b[0mmsg\u001b[0m\u001b[0;34m)\u001b[0m\u001b[0;34m\u001b[0m\u001b[0;34m\u001b[0m\u001b[0m\n\u001b[0m\u001b[1;32m    344\u001b[0m \u001b[0;34m\u001b[0m\u001b[0m\n\u001b[1;32m    345\u001b[0m     \u001b[0;32mdef\u001b[0m \u001b[0mget_device\u001b[0m\u001b[0;34m(\u001b[0m\u001b[0mself\u001b[0m\u001b[0;34m,\u001b[0m \u001b[0mdevnum\u001b[0m\u001b[0;34m=\u001b[0m\u001b[0;36m0\u001b[0m\u001b[0;34m)\u001b[0m\u001b[0;34m:\u001b[0m\u001b[0;34m\u001b[0m\u001b[0;34m\u001b[0m\u001b[0m\n",
      "\u001b[0;31mCudaAPIError\u001b[0m: [700] Call to cuMemcpyDtoH results in UNKNOWN_CUDA_ERROR"
     ]
    }
   ],
   "source": [
    "xdim = 128\n",
    "ydim = 768\n",
    "zdim = 128\n",
    "shape = xdim * ydim * zdim\n",
    "ex = np.zeros(shape=shape, dtype=np.float32)\n",
    "ey = np.zeros(shape=shape, dtype=np.float32)\n",
    "ez = np.zeros(shape=shape, dtype=np.float32)\n",
    "bx = np.zeros(shape=shape, dtype=np.float32)\n",
    "by = np.zeros(shape=shape, dtype=np.float32)\n",
    "bz = np.zeros(shape=shape, dtype=np.float32)\n",
    "\n",
    "starttime = time.time()\n",
    "particleParallel[80, 32](ex, ey, ez, bx, by, bz, charge, xpos, ypos, zpos, momentumx, momentumy, momentumz, mass, weightings, xdim, ydim, zdim)\n",
    "print(time.time()-starttime)"
   ]
  },
  {
   "cell_type": "code",
   "execution_count": null,
   "id": "49779d2f-4d44-4e08-94d4-58ecfa17ef9b",
   "metadata": {},
   "outputs": [],
   "source": [
    "ef = np.sqrt(ex**2+ey**2+ez**2)\n",
    "bf = np.sqrt(bx**2+by**2+bz**2)"
   ]
  },
  {
   "cell_type": "code",
   "execution_count": null,
   "id": "89cccdc8-d98b-4aab-9f79-31c9d60abf78",
   "metadata": {},
   "outputs": [],
   "source": [
    "figsize(25, 16)\n",
    "#imshow((ex[64, 375:425, 40:96].T))\n",
    "#imshow((ex[2, :, :].T))\n",
    "imshow((ef.reshape(128, 768, 128)[3, :300:4, :].T))\n",
    "colorbar()"
   ]
  },
  {
   "cell_type": "code",
   "execution_count": null,
   "id": "5ac69708-3eb5-4bbb-a3cc-e35c49f9ffcc",
   "metadata": {},
   "outputs": [],
   "source": []
  },
  {
   "cell_type": "code",
   "execution_count": null,
   "id": "0d2734ca-7939-417f-a71e-01d2b152d8ad",
   "metadata": {},
   "outputs": [],
   "source": []
  },
  {
   "cell_type": "code",
   "execution_count": null,
   "id": "e12399e6-ced3-45ab-b597-106ea4f19656",
   "metadata": {},
   "outputs": [],
   "source": []
  },
  {
   "cell_type": "code",
   "execution_count": null,
   "id": "a34d5134-7cad-45c2-869d-1d7043420a40",
   "metadata": {},
   "outputs": [],
   "source": []
  },
  {
   "cell_type": "code",
   "execution_count": 39,
   "id": "23ae7467-37f6-4585-bce1-3aa1a1b10e17",
   "metadata": {},
   "outputs": [
    {
     "name": "stdout",
     "output_type": "stream",
     "text": [
      "e\n",
      "     charge\n",
      "     mass\n",
      "     momentum\n",
      "     position\n",
      "     positionOffset\n",
      "     weighting\n",
      "i\n",
      "     charge\n",
      "     mass\n",
      "     momentum\n",
      "     position\n",
      "     positionOffset\n",
      "     weighting\n"
     ]
    }
   ],
   "source": [
    "for i in iteration.particles:\n",
    "    print(i)\n",
    "    for j in iteration.particles[i]:\n",
    "        print(\"    \", j)"
   ]
  },
  {
   "cell_type": "code",
   "execution_count": null,
   "id": "d94f628f-de12-4a6a-8a6b-f9a14a45bb0f",
   "metadata": {},
   "outputs": [],
   "source": []
  }
 ],
 "metadata": {
  "kernelspec": {
   "display_name": "Python 3 (ipykernel)",
   "language": "python",
   "name": "python3"
  },
  "language_info": {
   "codemirror_mode": {
    "name": "ipython",
    "version": 3
   },
   "file_extension": ".py",
   "mimetype": "text/x-python",
   "name": "python",
   "nbconvert_exporter": "python",
   "pygments_lexer": "ipython3",
   "version": "3.9.6"
  }
 },
 "nbformat": 4,
 "nbformat_minor": 5
}
