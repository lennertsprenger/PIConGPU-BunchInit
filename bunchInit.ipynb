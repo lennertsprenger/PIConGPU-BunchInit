{
 "cells": [
  {
   "cell_type": "code",
   "execution_count": 2,
   "id": "bb61b395-541f-4985-81fc-96d60b1fbf45",
   "metadata": {
    "tags": []
   },
   "outputs": [
    {
     "name": "stdout",
     "output_type": "stream",
     "text": [
      "Populating the interactive namespace from numpy and matplotlib\n"
     ]
    }
   ],
   "source": [
    "%pylab inline\n",
    "import openpmd_api as io\n",
    "import numpy as np\n",
    "from numba import cuda, jit\n",
    "import math\n",
    "import scipy.constants"
   ]
  },
  {
   "cell_type": "code",
   "execution_count": null,
   "id": "51b093ed-c574-490b-80a4-aee8bc1853a3",
   "metadata": {},
   "outputs": [],
   "source": [
    "del series"
   ]
  },
  {
   "cell_type": "code",
   "execution_count": 4,
   "id": "6646086f-be87-4014-b985-bbca20213b3f",
   "metadata": {},
   "outputs": [],
   "source": [
    "path = \"/bigdata/hplsim/scratch/spreng88/runs/bigFieldWithoutInit2/simOutput/checkpoints/checkpoint_%T.h5\"\n",
    "#path = \"/bigdata/hplsim/scratch/spreng88/runs/restart/checkpoint_%T.h5\"\n",
    "\n",
    "series = io.Series( path, io.Access.read_only)"
   ]
  },
  {
   "cell_type": "code",
   "execution_count": null,
   "id": "bcdd52b3-5aa9-45f7-b60e-536972d2f7c3",
   "metadata": {},
   "outputs": [],
   "source": []
  },
  {
   "cell_type": "code",
   "execution_count": 5,
   "id": "ca29448d-bcba-4506-8b13-4b9914ef8306",
   "metadata": {},
   "outputs": [],
   "source": [
    "nth = 1\n",
    "write = False\n",
    "\n",
    "# add field to iteration 0\n",
    "iteration = series.iterations[0] \n",
    "\n",
    "cell_depth = iteration.get_attribute(\"cell_depth\")          # z\n",
    "cell_height = iteration.get_attribute(\"cell_height\")        # y\n",
    "cell_width = iteration.get_attribute(\"cell_width\")          # x\n",
    "\n",
    "unit_efield = iteration.get_attribute(\"unit_efield\")\n",
    "unit_bfield = iteration.get_attribute(\"unit_bfield\")\n",
    "unit_charge = iteration.get_attribute(\"unit_charge\")\n",
    "unit_mass = iteration.get_attribute(\"unit_mass\")\n",
    "unit_speed = iteration.get_attribute(\"unit_speed\")\n",
    "unit_length = iteration.get_attribute(\"unit_length\")\n",
    "unit_time = iteration.get_attribute(\"unit_time\")\n",
    "\n",
    "pi = scipy.constants.pi\n",
    "c = scipy.constants.c / unit_speed\n",
    "eps0 = iteration.get_attribute(\"eps0\")\n",
    "mue0 = iteration.get_attribute(\"mue0\")"
   ]
  },
  {
   "cell_type": "code",
   "execution_count": 6,
   "id": "7db0ff10-91d1-4267-b1e9-c9d3ebfba29e",
   "metadata": {},
   "outputs": [],
   "source": [
    "\n",
    "@cuda.jit(device=True)\n",
    "def particleV(px, py, pz, mass):\n",
    "    \"\"\"\n",
    "    calculate particle speed from momentum\n",
    "    \"\"\"\n",
    "    \n",
    "    m2p2 = math.sqrt( (mass)**2 + px**2 + py**2 + pz**2)\n",
    "    \n",
    "    vx = px / m2p2 * c\n",
    "    vy = py / m2p2 * c\n",
    "    vz = pz / m2p2 * c\n",
    "    \n",
    "    return vx, vy, vz\n",
    "\n",
    "@cuda.jit(device=True)\n",
    "def param1(rx,ry,rz, rqx,rqy,rqz, vx,vy,vz):\n",
    "    \"\"\"\n",
    "    calculate some parameters that could be reused\n",
    "    r: position of field calculation\n",
    "    rq: position of charge q at time t\n",
    "    rq_tr: position of charge at retarded time tr\n",
    "    \"\"\"\n",
    "    \n",
    "    #\n",
    "    # solution equation:\n",
    "    # dt = t - tr\n",
    "    # r where we want the field\n",
    "    # rq position of charge\n",
    "    # (c^2 - |v|^2) * dt^2 - 2(r*v - rq*v) * dt + 2 * r*rq - |r|^2 - |rq|^2\n",
    "    #\n",
    "    a = (c**2 - (vx**2 + vy**2 + vz**2))\n",
    "    b = -2 * ((rx-rqx)*vx + (ry-rqy)*vy + (rz-rqz)*vz)\n",
    "    d = 2 * (rx*rqx + ry*rqy + rz*rqz) - (rx**2 + ry**2 + rz**2) - (rqx**2 + rqy**2 + rqz**2)\n",
    "    dt = (-b + math.sqrt(b**2 - 4*a*d)) / (2*a)\n",
    "    \n",
    "    rq_trx = rqx - vx * dt\n",
    "    rq_try = rqy - vy * dt\n",
    "    rq_trz = rqz - vz * dt\n",
    "\n",
    "    dvx = rx - rq_trx\n",
    "    dvy = ry - rq_try\n",
    "    dvz = rz - rq_trz\n",
    "    \n",
    "    distance = math.sqrt(dvx**2 + dvy**2 + dvz**2)\n",
    "    \n",
    "    if distance == 0:\n",
    "        distance = -1\n",
    "    \n",
    "    #n =  distanceVec / distance\n",
    "    nx = dvx / distance\n",
    "    ny = dvy / distance\n",
    "    nz = dvz / distance\n",
    "    \n",
    "    return nx, ny, nz, distance, dvx, dvy, dvz #n, distance, distanceVec\n",
    "\n",
    "@cuda.jit(device=True)\n",
    "def retardedEFieldParallel(q, nx, ny, nz, distance, dvx, dvy, dvz, vx, vy, vz):\n",
    "    \"\"\"\n",
    "    field for one position\n",
    "    q: charge\n",
    "    nx, ny, nz: unit vector to retarded position\n",
    "    distance: distance to retarded position\n",
    "    dvx, dvy, dvz: distance Vector to retarded position\n",
    "    vx, vy, vz: velocity vector of the charge\n",
    "    \"\"\"\n",
    "    \n",
    "    if distance == -1:\n",
    "        nx = 1\n",
    "        ny = 0\n",
    "        xz = 0\n",
    "    \n",
    "    factor = q / (4 * pi * eps0)\n",
    "    \n",
    "    ux = c * nx - vx\n",
    "    uy = c * ny - vy\n",
    "    uz = c * nz - vz\n",
    "    \n",
    "\n",
    "    scalar = factor * distance / (dvx*ux + dvy*uy + dvz*uz)**3 * (c**2 - (vx**2 + vy**2 + vz**2))\n",
    "    \n",
    "    return  scalar * ux, scalar * uy, scalar * uz\n",
    "\n"
   ]
  },
  {
   "cell_type": "code",
   "execution_count": 7,
   "id": "768327f3-e5ba-4e7a-b2d4-536cafb14301",
   "metadata": {},
   "outputs": [],
   "source": [
    "@cuda.jit\n",
    "def particleParallel(Ex,Ey,Ez, Bx,By,Bz, q_, rqx_,rqy_,rqz_, px_,py_,pz_, mass_, weighting_, xdim, ydim, zdim, particleCount):\n",
    "    \"\"\"\n",
    "    Ex,Ey,Ez E field where new field is added\n",
    "    Bx,By,Bz B -\"-\n",
    "    \n",
    "    _ is on all input arrays read from checkpoint \n",
    "    q_ array from checkpoint with charges\n",
    "    rq_ position data of particles\n",
    "    p_ momentum of particles\n",
    "    \n",
    "    xdim, ydim, zdim length of dimension of Ex,Bx, ...\n",
    "    Ex/Bx need to be 1D for atomic add\n",
    "    \"\"\"\n",
    "    tix = cuda.threadIdx.x\n",
    "    bix = cuda.blockIdx.x\n",
    "    bdx = cuda.blockDim.x\n",
    "    \n",
    "    index = tix + bix * bdx    # particle index\n",
    "    index = index * nth\n",
    "    \n",
    "    if index < particleCount:\n",
    "    \n",
    "        q = q_[index] * weighting_[index]\n",
    "        rqx = rqx_[index] * cell_width\n",
    "        rqy = rqy_[index] * cell_height\n",
    "        rqz = rqz_[index] * cell_depth\n",
    "        px = px_[index]\n",
    "        py = py_[index]\n",
    "        pz = pz_[index]\n",
    "        mass = mass_[index] * weighting_[index]\n",
    "\n",
    "        for x in range(xdim):\n",
    "\n",
    "            rx = x * cell_width\n",
    "            rex = (x + 0.5) * cell_width\n",
    "\n",
    "            for y in range(ydim):\n",
    "\n",
    "                ry = y * cell_height\n",
    "                rey = (y + 0.5) * cell_height\n",
    "\n",
    "                for z in range(zdim):    \n",
    "\n",
    "                    rz = z * cell_depth\n",
    "                    rez = (z + 0.5) * cell_depth\n",
    "\n",
    "                    vx, vy, vz = particleV(px, py, pz, mass)\n",
    "                    #print(vx, vy, vz)\n",
    "\n",
    "                    # x\n",
    "                    nx, ny, nz, distancex, dvx, dvy, dvz = param1(rex, ry, rz, rqx, rqy, rqz, vx,vy,vz)\n",
    "                    ex, _, _ = retardedEFieldParallel(q, nx, ny, nz, distancex, dvx, dvx, dvz, vx, vy, vz)\n",
    "\n",
    "                    # y\n",
    "                    nx, ny, nz, distancey, dvx, dvy, dvz = param1(rx, rey, rz, rqx, rqy, rqz, vx,vy,vz)\n",
    "                    _, ey, _ = retardedEFieldParallel(q, nx, ny, nz, distancey, dvx, dvy, dvz, vx, vy, vz)\n",
    "\n",
    "                    # z\n",
    "                    nx, ny, nz, distancez, dvx, dvy, dvz = param1(rx, ry, rez, rqx, rqy, rqz, vx,vy,vz)\n",
    "                    _, _, ez = retardedEFieldParallel(q, nx, ny, nz, distancez, dvx, dvy, dvz , vx, vy, vz)\n",
    "\n",
    "                    nx, ny, nz, distancez, dvx, dvy, dvz = param1(rx, ry, rz, rqx, rqy, rqz, vx,vy,vz)\n",
    "                    ex, ey, ez = retardedEFieldParallel(q, nx, ny, nz, distancez, dvx, dvy, dvz , vx, vy, vz)\n",
    "\n",
    "                    fieldIndex = x + y * xdim + z * xdim * ydim\n",
    "\n",
    "                    cuda.atomic.add(Ex, fieldIndex, ex * nth)\n",
    "                    cuda.atomic.add(Ey, fieldIndex, ey * nth)\n",
    "                    cuda.atomic.add(Ez, fieldIndex, ez * nth)\n",
    "\n",
    "                    #nx, ny, nz, distancex, dvx, dvy, dvz = param1(rx, rey, rez, rqx, rqy, rqz, vx,vy,vz)\n",
    "                    #ex, ey, ez = retardedEFieldParallel(q, nx, ny, nz, distancex, dvx, dvy, dvz, vx, vy, vz)\n",
    "                    bx = ( ny * ez - nz * ey ) / c\n",
    "                    \n",
    "                    #nx, ny, nz, distancex, dvx, dvy, dvz = param1(rex, ry, rez, rqx, rqy, rqz, vx,vy,vz)\n",
    "                    #ex, ey, ez = retardedEFieldParallel(q, nx, ny, nz, distancex, dvx, dvy, dvz, vx, vy, vz)\n",
    "                    by = ( nz * ex - nx * ez ) / c\n",
    "                    \n",
    "                    #nx, ny, nz, distancex, dvx, dvy, dvz = param1(rex, rey, rz, rqx, rqy, rqz, vx,vy,vz)\n",
    "                    #ex, ey, ez = retardedEFieldParallel(q, nx, ny, nz, distancex, dvx, dvy, dvz, vx, vy, vz)\n",
    "                    bz = ( nx * ey - ny * ex ) / c\n",
    "\n",
    "                    cuda.atomic.add(Bx, fieldIndex, bx)\n",
    "                    cuda.atomic.add(By, fieldIndex, by)\n",
    "                    cuda.atomic.add(Bz, fieldIndex, bz)"
   ]
  },
  {
   "cell_type": "code",
   "execution_count": 8,
   "id": "6c3087f5-be7e-4461-b028-2f148653a3c7",
   "metadata": {},
   "outputs": [],
   "source": [
    "@cuda.jit\n",
    "def FieldParallel(Ex,Ey,Ez, Bx,By,Bz, q_, rqx_,rqy_,rqz_, px_,py_,pz_, mass_, weighting_, xdim, ydim, zdim, particleCount):\n",
    "    \"\"\"\n",
    "    Ex,Ey,Ez E field where new field is added\n",
    "    Bx,By,Bz B -\"-\n",
    "    \n",
    "    _ is on all input arrays read from checkpoint \n",
    "    q_ array from checkpoint with charges\n",
    "    rq_ position data of particles\n",
    "    p_ momentum of particles\n",
    "    \n",
    "    xdim, ydim, zdim length of dimension of Ex,Bx, ...\n",
    "    Ex/Bx need to be 1D for atomic add\n",
    "    \"\"\"\n",
    "    tix = cuda.threadIdx.x\n",
    "    bix = cuda.blockIdx.x\n",
    "    bdx = cuda.blockDim.x\n",
    "    \n",
    "    fieldIndex = tix + bix * bdx    # field index\n",
    "    \n",
    "    #fieldIndex = x + y * xdim + z * xdim * ydim\n",
    "    z = math.floor( fieldIndex / (xdim*ydim) )\n",
    "    y = math.floor( (fieldIndex - z * xdim*ydim) / xdim )\n",
    "    x = fieldIndex - z * xdim*ydim - y * xdim\n",
    "    \n",
    "    #print(fieldIndex)\n",
    "    #print(x,y,z)\n",
    "    \n",
    "    if fieldIndex < xdim*ydim*zdim:\n",
    "        \n",
    "        #for index in range(particleCount):\n",
    "        if True:\n",
    "            index = 0\n",
    "        \n",
    "            q = q_[index] * weighting_[index]\n",
    "            rqx = rqx_[index] * cell_width\n",
    "            rqy = rqy_[index] * cell_height\n",
    "            rqz = rqz_[index] * cell_depth\n",
    "            px = px_[index]\n",
    "            py = py_[index]\n",
    "            pz = pz_[index]\n",
    "            mass = mass_[index] * weighting_[index]\n",
    "            \n",
    "            rx = x * cell_width\n",
    "            rex = (x + 0.5) * cell_width\n",
    "            \n",
    "            ry = y * cell_height\n",
    "            rey = (y + 0.5) * cell_height\n",
    "            \n",
    "            rz = z * cell_depth\n",
    "            rez = (z + 0.5) * cell_depth\n",
    "\n",
    "\n",
    "            vx, vy, vz = particleV(px, py, pz, mass)\n",
    "            \n",
    "\n",
    "            # x\n",
    "            nx, ny, nz, distancex, dvx, dvy, dvz = param1(rex, ry, rz, rqx, rqy, rqz, vx,vy,vz)\n",
    "            ex, _, _ = retardedEFieldParallel(q, nx, ny, nz, distancex, dvx, dvx, dvz, vx, vy, vz)\n",
    "\n",
    "            # y\n",
    "            nx, ny, nz, distancey, dvx, dvy, dvz = param1(rx, rey, rz, rqx, rqy, rqz, vx,vy,vz)\n",
    "            _, ey, _ = retardedEFieldParallel(q, nx, ny, nz, distancey, dvx, dvy, dvz, vx, vy, vz)\n",
    "\n",
    "            # z\n",
    "            nx, ny, nz, distancez, dvx, dvy, dvz = param1(rx, ry, rez, rqx, rqy, rqz, vx,vy,vz)\n",
    "            _, _, ez = retardedEFieldParallel(q, nx, ny, nz, distancez, dvx, dvy, dvz , vx, vy, vz)\n",
    "\n",
    "            nx, ny, nz, distancez, dvx, dvy, dvz = param1(rx, ry, rz, rqx, rqy, rqz, vx,vy,vz)\n",
    "            ex, ey, ez = retardedEFieldParallel(q, nx, ny, nz, distancez, dvx, dvy, dvz , vx, vy, vz)\n",
    "\n",
    "            cuda.atomic.add(Ex, fieldIndex, ex * nth)\n",
    "            cuda.atomic.add(Ey, fieldIndex, ey * nth)\n",
    "            cuda.atomic.add(Ez, fieldIndex, ez * nth)\n",
    "    \n",
    "            #nx, ny, nz, distancex, dvx, dvy, dvz = param1(rx, rey, rez, rqx, rqy, rqz, vx,vy,vz)\n",
    "            #ex, ey, ez = retardedEFieldParallel(q, nx, ny, nz, distancex, dvx, dvy, dvz, vx, vy, vz)\n",
    "            bx = ( ny * ez - nz * ey ) / c\n",
    "\n",
    "            #nx, ny, nz, distancex, dvx, dvy, dvz = param1(rex, ry, rez, rqx, rqy, rqz, vx,vy,vz)\n",
    "            #ex, ey, ez = retardedEFieldParallel(q, nx, ny, nz, distancex, dvx, dvy, dvz, vx, vy, vz)\n",
    "            by = ( nz * ex - nx * ez ) / c\n",
    "\n",
    "            #nx, ny, nz, distancex, dvx, dvy, dvz = param1(rex, rey, rz, rqx, rqy, rqz, vx,vy,vz)\n",
    "            #ex, ey, ez = retardedEFieldParallel(q, nx, ny, nz, distancex, dvx, dvy, dvz, vx, vy, vz)\n",
    "            bz = ( nx * ey - ny * ex ) / c\n",
    "\n",
    "            cuda.atomic.add(Bx, fieldIndex, bx)\n",
    "            cuda.atomic.add(By, fieldIndex, by)\n",
    "            cuda.atomic.add(Bz, fieldIndex, bz)\n",
    "            "
   ]
  },
  {
   "cell_type": "code",
   "execution_count": 9,
   "id": "7952feba-32f4-4fab-a5c5-d7dd29dee239",
   "metadata": {},
   "outputs": [],
   "source": [
    "species = \"b\"\n",
    "\n",
    "xpos_incell = iteration.particles[species][\"position\"][\"x\"][:]\n",
    "ypos_incell = iteration.particles[species][\"position\"][\"y\"][:]\n",
    "zpos_incell = iteration.particles[species][\"position\"][\"z\"][:]\n",
    "xpos_offset = iteration.particles[species][\"positionOffset\"][\"x\"][:]\n",
    "ypos_offset = iteration.particles[species][\"positionOffset\"][\"y\"][:]\n",
    "zpos_offset = iteration.particles[species][\"positionOffset\"][\"z\"][:]\n",
    "momentumx = iteration.particles[species][\"momentum\"][\"x\"][:]\n",
    "momentumy = iteration.particles[species][\"momentum\"][\"y\"][:]\n",
    "momentumz = iteration.particles[species][\"momentum\"][\"z\"][:]\n",
    "weightings = iteration.particles[species][\"weighting\"][io.Record_Component.SCALAR][:]\n",
    "charge = iteration.particles[species][\"charge\"][io.Record_Component.SCALAR][:]\n",
    "mass = iteration.particles[species][\"mass\"][io.Record_Component.SCALAR][:]\n",
    "\n",
    "series.flush()\n",
    "\n",
    "particleCount = len(mass)\n",
    "xpos = xpos_incell + np.float32(xpos_offset)\n",
    "ypos = ypos_incell + np.float32(ypos_offset)\n",
    "zpos = zpos_incell + np.float32(zpos_offset)\n",
    "\n",
    "# free some memory\n",
    "del xpos_incell, ypos_incell, zpos_incell\n",
    "del xpos_offset, ypos_offset, zpos_offset"
   ]
  },
  {
   "cell_type": "code",
   "execution_count": 11,
   "id": "ba100d4d-b270-4ee3-9aa9-72fe0e089514",
   "metadata": {},
   "outputs": [
    {
     "name": "stdout",
     "output_type": "stream",
     "text": [
      "4308593\n",
      "(192, 512, 192)\n"
     ]
    }
   ],
   "source": [
    "print(particleCount)\n",
    "print(iteration.meshes[\"E\"][\"x\"][:].shape)"
   ]
  },
  {
   "cell_type": "code",
   "execution_count": null,
   "id": "dc4b5096-449f-4803-b064-ecf82ca02a93",
   "metadata": {
    "tags": []
   },
   "outputs": [],
   "source": [
    "fieldShape = iteration.meshes[\"E\"][\"x\"][:].shape\n",
    "xdim = fieldShape[2]\n",
    "ydim = fieldShape[1]\n",
    "zdim = fieldShape[0]\n",
    "\n",
    "print(\"Cells (x, y, z, total): (\", xdim, ydim, zdim, xdim*ydim*zdim, \")\")\n",
    "\n",
    "blockdim = 32#256                                        # number of threads per block (multiple 32 for optimal speed)\n",
    "griddim = (int) (np.ceil(particleCount / blockdim / nth))   # number of blocks in the grid\n",
    "\n",
    "# for test on a smaller number of particles\n",
    "#blockdim = 1\n",
    "#griddim = 1\n",
    "\n",
    "print(\"particles to be processed:\", blockdim*griddim)\n",
    "\n",
    "shape = xdim * ydim * zdim\n",
    "ex = np.zeros(shape=shape, dtype=np.float32)\n",
    "ey = np.zeros(shape=shape, dtype=np.float32)\n",
    "ez = np.zeros(shape=shape, dtype=np.float32)\n",
    "bx = np.zeros(shape=shape, dtype=np.float32)\n",
    "by = np.zeros(shape=shape, dtype=np.float32)\n",
    "bz = np.zeros(shape=shape, dtype=np.float32)\n",
    "\n",
    "print(\"start time:\", time.ctime())\n",
    "starttime = time.time()\n",
    "particleParallel[griddim, blockdim](ex, ey, ez, bx, by, bz, charge, xpos, ypos, zpos, momentumx, momentumy, momentumz, mass, weightings, xdim, ydim, zdim, particleCount)\n",
    "exeTime = time.time()-starttime\n",
    "print(\"time: \", exeTime, \"s\")\n",
    "print(\"avgTime per particle per cell:\", exeTime / (blockdim*griddim) / (xdim*ydim*zdim))\n",
    "\n",
    "if write:\n",
    "    iteration.meshes[\"E\"][\"x\"].store_chunk(ex.reshape(zdim, ydim, xdim))\n",
    "    iteration.meshes[\"E\"][\"y\"].store_chunk(ey.reshape(zdim, ydim, xdim))\n",
    "    iteration.meshes[\"E\"][\"z\"].store_chunk(ez.reshape(zdim, ydim, xdim))\n",
    "    iteration.meshes[\"B\"][\"x\"].store_chunk(bx.reshape(zdim, ydim, xdim))\n",
    "    iteration.meshes[\"B\"][\"y\"].store_chunk(by.reshape(zdim, ydim, xdim))\n",
    "    iteration.meshes[\"B\"][\"z\"].store_chunk(bz.reshape(zdim, ydim, xdim))\n",
    "    series.flush()\n",
    "    print(\"wrote to checkpoint\")\n",
    "else:\n",
    "    print(\"no data was written to the checkpoint\")"
   ]
  },
  {
   "cell_type": "code",
   "execution_count": null,
   "id": "20076944-4696-4d23-9e6b-ddd694682e78",
   "metadata": {},
   "outputs": [],
   "source": [
    "# manual write\n",
    "if write == False:\n",
    "    iteration.meshes[\"E\"][\"x\"].store_chunk(ex.reshape(zdim, ydim, xdim))\n",
    "    iteration.meshes[\"E\"][\"y\"].store_chunk(ey.reshape(zdim, ydim, xdim))\n",
    "    iteration.meshes[\"E\"][\"z\"].store_chunk(ez.reshape(zdim, ydim, xdim))\n",
    "    iteration.meshes[\"B\"][\"x\"].store_chunk(bx.reshape(zdim, ydim, xdim))\n",
    "    iteration.meshes[\"B\"][\"y\"].store_chunk(by.reshape(zdim, ydim, xdim))\n",
    "    iteration.meshes[\"B\"][\"z\"].store_chunk(bz.reshape(zdim, ydim, xdim))\n",
    "    series.flush()\n",
    "    print(\"data written\")"
   ]
  },
  {
   "cell_type": "code",
   "execution_count": null,
   "id": "6fa5e042-fe9a-450c-a859-d12c44533fe7",
   "metadata": {},
   "outputs": [],
   "source": [
    "del series"
   ]
  },
  {
   "cell_type": "code",
   "execution_count": null,
   "id": "49779d2f-4d44-4e08-94d4-58ecfa17ef9b",
   "metadata": {},
   "outputs": [],
   "source": [
    "ef = np.sqrt(ex**2+ey**2+ez**2)\n",
    "bf = np.sqrt(bx**2+by**2+bz**2)"
   ]
  },
  {
   "cell_type": "code",
   "execution_count": null,
   "id": "8b7eedc9-0c1a-4fb4-8fb8-883711029e36",
   "metadata": {},
   "outputs": [],
   "source": [
    "ef"
   ]
  },
  {
   "cell_type": "code",
   "execution_count": null,
   "id": "89cccdc8-d98b-4aab-9f79-31c9d60abf78",
   "metadata": {},
   "outputs": [],
   "source": [
    "figsize(10, 10)\n",
    "#for i in np.arange(100,251,25, dtype=np.int32):\n",
    "imshow((ef.reshape(zdim, ydim, xdim)[650, :, :].T))#, vmin=0.000, vmax=0.001)\n",
    "colorbar()\n",
    "show()"
   ]
  },
  {
   "cell_type": "code",
   "execution_count": null,
   "id": "60c74ebe-9756-4a9a-8b0c-1cf49507a1e2",
   "metadata": {},
   "outputs": [],
   "source": [
    "q = np.array([1.0])\n",
    "rqx = np.array([384.])\n",
    "rqy = np.array([450.])\n",
    "rqz = np.array([384.])\n",
    "px = np.array([0.0])\n",
    "py = np.array([8.42e-2])\n",
    "pz = np.array([0.0])\n",
    "mass = np.array([5.72455701e-06])\n",
    "weighting = np.array([3e3])"
   ]
  },
  {
   "cell_type": "code",
   "execution_count": null,
   "id": "32bbd799-a256-4b3b-887f-0e3948be6fbb",
   "metadata": {},
   "outputs": [],
   "source": [
    "#FieldParallel(Ex,Ey,Ez, Bx,By,Bz, q_, rqx_,rqy_,rqz_, px_,py_,pz_, mass_, weighting_, xdim, ydim, zdim, particleCount)\n",
    "fieldShape = iteration.meshes[\"E\"][\"x\"][:].shape\n",
    "xdim = fieldShape[2]\n",
    "ydim = fieldShape[1]\n",
    "zdim = fieldShape[0]\n",
    "\n",
    "shape = xdim*ydim*zdim\n",
    "dtype = np.float32\n",
    "\n",
    "ex = np.zeros(shape, dtype=dtype)\n",
    "ey = np.zeros(shape, dtype=dtype)\n",
    "ez = np.zeros(shape, dtype=dtype)\n",
    "bx = np.zeros(shape, dtype=dtype)\n",
    "by = np.zeros(shape, dtype=dtype)\n",
    "bz = np.zeros(shape, dtype=dtype)\n",
    "\n",
    "ex_d = cuda.to_device(ex)\n",
    "ey_d = cuda.to_device(ey)\n",
    "ez_d = cuda.to_device(ez)\n",
    "bx_d = cuda.to_device(bx)\n",
    "by_d = cuda.to_device(by)\n",
    "bz_d = cuda.to_device(bz)\n",
    "\n",
    "particleCount = 1\n",
    "\n",
    "threads = 256\n",
    "blocks = math.ceil(shape / threads)\n",
    "\n",
    "print(blocks, threads)\n",
    "print(time.ctime())\n",
    "starttime = time.time()\n",
    "\n",
    "#FieldParallel[blocks, threads](ex,ey,ez, bx,by,bz, q, rqx,rqy,rqz, px,py,pz, mass, weightings, xdim,ydim,zdim, particleCount)\n",
    "FieldParallel[4194304, 256](ex_d,ey_d,ez_d, bx_d,by_d,bz_d, q, rqx,rqy,rqz, px,py,pz, mass, weighting, xdim,ydim,zdim, particleCount)\n",
    "print(time.time()-starttime,\"s\")"
   ]
  },
  {
   "cell_type": "code",
   "execution_count": null,
   "id": "577facf5-f87a-4b46-afbe-27e948b37511",
   "metadata": {},
   "outputs": [],
   "source": [
    "time.ctime()#"
   ]
  },
  {
   "cell_type": "code",
   "execution_count": null,
   "id": "f43b28c8-2959-4775-a47c-e7295a7b5ed0",
   "metadata": {
    "jupyter": {
     "source_hidden": true
    },
    "tags": []
   },
   "outputs": [],
   "source": [
    "fieldShape = iteration.meshes[\"E\"][\"x\"][:].shape\n",
    "xdim = 768#fieldShape[2]\n",
    "ydim = 1024#fieldShape[1]\n",
    "zdim = 768#fieldShape[0]\n",
    "shape = xdim*ydim*zdim\n",
    "\n",
    "dtype = np.float32\n",
    "\n",
    "ex = np.zeros(shape, dtype=dtype)\n",
    "ey = np.zeros(shape, dtype=dtype)\n",
    "ez = np.zeros(shape, dtype=dtype)\n",
    "bx = np.zeros(shape, dtype=dtype)\n",
    "by = np.zeros(shape, dtype=dtype)\n",
    "bz = np.zeros(shape, dtype=dtype)\n",
    "\n",
    "ex_d = cuda.to_device(ex)\n",
    "ey_d = cuda.to_device(ey)\n",
    "ez_d = cuda.to_device(ez)\n",
    "bx_d = cuda.to_device(bx)\n",
    "by_d = cuda.to_device(by)\n",
    "bz_d = cuda.to_device(bz)\n",
    "\n",
    "particleCount = 1\n",
    "starttime = time.time()\n",
    "FieldParallel[4194304, 256](ex_d,ey_d,ez_d, bx_d,by_d,bz_d, q, rqx,rqy,rqz, px,py,pz, mass, weighting, xdim,ydim,zdim, particleCount)\n",
    "print(\"{:.4} s\".format(time.time()-starttime))\n"
   ]
  },
  {
   "cell_type": "code",
   "execution_count": null,
   "id": "676b549d-d5b8-4167-8095-3efda6608b11",
   "metadata": {},
   "outputs": [],
   "source": [
    "## if the kernel dies here, start the jupyter session with more memory\n",
    "# floatSize = 4 # 4 for float32, 8 for float64\n",
    "# print(\"min.\", shape * 6 * floatSize , \"GB for field arrays\")\n",
    "ex_d.copy_to_host(ex)\n",
    "ey_d.copy_to_host(ey)\n",
    "ez_d.copy_to_host(ez)\n",
    "bx_d.copy_to_host(bx)\n",
    "by_d.copy_to_host(by)\n",
    "bz_d.copy_to_host(bz)\n"
   ]
  },
  {
   "cell_type": "code",
   "execution_count": null,
   "id": "a1a219a4-526f-4282-8447-8a01fab1dd48",
   "metadata": {},
   "outputs": [],
   "source": []
  },
  {
   "cell_type": "code",
   "execution_count": null,
   "id": "d8630b56-7813-487a-a1b8-ef234f0df058",
   "metadata": {},
   "outputs": [],
   "source": [
    "ex_d"
   ]
  },
  {
   "cell_type": "code",
   "execution_count": null,
   "id": "c9d2059b-ce54-47a0-b15e-030ca2d06f6d",
   "metadata": {},
   "outputs": [],
   "source": [
    "del ex_d\n",
    "del ey_d\n",
    "del ez_d\n",
    "del bx_d\n",
    "del by_d\n",
    "del bz_d"
   ]
  },
  {
   "cell_type": "code",
   "execution_count": null,
   "id": "7bf4b98b-6c42-4fae-81bb-5e1cc9c4ec3b",
   "metadata": {},
   "outputs": [],
   "source": [
    "del ex\n",
    "del ey\n",
    "del ez\n",
    "del bx\n",
    "del by\n",
    "del bz"
   ]
  },
  {
   "cell_type": "code",
   "execution_count": null,
   "id": "bf9a3f28-6a40-45ae-b5a9-ff380c500c5c",
   "metadata": {},
   "outputs": [],
   "source": [
    "ef = np.sqrt(ex**2+ey**2+ez**2)\n",
    "bf = np.sqrt(bx**2+by**2+bz**2)"
   ]
  },
  {
   "cell_type": "code",
   "execution_count": null,
   "id": "ed8a3323-34cf-45c3-a539-297b0c67a6bc",
   "metadata": {},
   "outputs": [],
   "source": [
    "figsize(15,15)\n",
    "imshow(np.log((bf.reshape(zdim,ydim,xdim).T[:,440])))#, vmin = 0, vmax = 1)\n",
    "colorbar()"
   ]
  },
  {
   "cell_type": "code",
   "execution_count": null,
   "id": "b3da82d1-2872-48fc-8ddc-91b946e0fac6",
   "metadata": {},
   "outputs": [],
   "source": [
    "species = \"b\"\n",
    "\n",
    "iteration.particles[species][\"position\"][\"x\"][:] = np.array([0.0])\n",
    "iteration.particles[species][\"position\"][\"y\"][:] = np.array([0.0])\n",
    "iteration.particles[species][\"position\"][\"z\"][:] = np.array([0.0])\n",
    "iteration.particles[species][\"positionOffset\"][\"x\"][:] = rqx\n",
    "iteration.particles[species][\"positionOffset\"][\"y\"][:] = rqy\n",
    "iteration.particles[species][\"positionOffset\"][\"z\"][:] = rqz\n",
    "iteration.particles[species][\"momentum\"][\"x\"][:] = px\n",
    "iteration.particles[species][\"momentum\"][\"y\"][:] = py\n",
    "iteration.particles[species][\"momentum\"][\"z\"][:] = pz\n",
    "iteration.particles[species][\"weighting\"][io.Record_Component.SCALAR][:] = weighting\n",
    "iteration.particles[species][\"charge\"][io.Record_Component.SCALAR][:] = q\n",
    "iteration.particles[species][\"mass\"][io.Record_Component.SCALAR][:] = mass\n",
    "series.flush()"
   ]
  },
  {
   "cell_type": "code",
   "execution_count": null,
   "id": "94289d04-e66e-4942-b5fc-9300f1b14fd9",
   "metadata": {},
   "outputs": [],
   "source": [
    "iteration.particles[species][\"position\"][\"x\"].store_chunk(np.array([0.0],dtype=np.float32))"
   ]
  },
  {
   "cell_type": "code",
   "execution_count": null,
   "id": "7c06ade3-90be-4c43-a76f-866ff8affb21",
   "metadata": {},
   "outputs": [],
   "source": [
    "test = iteration.particles[species][\"position\"][\"x\"][:]\n",
    "series.flush()"
   ]
  },
  {
   "cell_type": "code",
   "execution_count": null,
   "id": "9f4597bf-7f31-4318-864c-b36f21988eab",
   "metadata": {},
   "outputs": [],
   "source": [
    "test"
   ]
  },
  {
   "cell_type": "code",
   "execution_count": null,
   "id": "a3fb049f-22dd-4ba8-a131-1d4f84d63b14",
   "metadata": {},
   "outputs": [],
   "source": [
    "iteration.particles[species]['position'].delete_attribute('x')"
   ]
  },
  {
   "cell_type": "code",
   "execution_count": null,
   "id": "32e37556-adca-4132-a15f-716afd77d655",
   "metadata": {},
   "outputs": [],
   "source": [
    "iteration.particles[species].delete_attribute('position')"
   ]
  },
  {
   "cell_type": "code",
   "execution_count": null,
   "id": "d94b493d-076b-453d-8f55-ffa3cdd6658e",
   "metadata": {},
   "outputs": [],
   "source": [
    "dir(io.ParticleSpecies)"
   ]
  },
  {
   "cell_type": "code",
   "execution_count": null,
   "id": "167ae43b-d09d-415e-86d4-e859eea2fd33",
   "metadata": {},
   "outputs": [],
   "source": [
    "for i in iteration.particles[species].attributes:\n",
    "    print(i)"
   ]
  },
  {
   "cell_type": "code",
   "execution_count": null,
   "id": "27aa5b4c-431c-4bbe-a1f8-d13f51378bea",
   "metadata": {},
   "outputs": [],
   "source": [
    "figsize(10,10)\n",
    "contour(ef.reshape(zdim,ydim,xdim)[150].T)"
   ]
  },
  {
   "cell_type": "code",
   "execution_count": null,
   "id": "ccbe637b-5230-4bc1-b656-62a8e9005c68",
   "metadata": {},
   "outputs": [],
   "source": [
    "hist(xpos)"
   ]
  },
  {
   "cell_type": "code",
   "execution_count": null,
   "id": "edc75141-38eb-4e86-ab7b-356d499edd8e",
   "metadata": {},
   "outputs": [],
   "source": []
  }
 ],
 "metadata": {
  "kernelspec": {
   "display_name": "Python 3 (ipykernel)",
   "language": "python",
   "name": "python3"
  },
  "language_info": {
   "codemirror_mode": {
    "name": "ipython",
    "version": 3
   },
   "file_extension": ".py",
   "mimetype": "text/x-python",
   "name": "python",
   "nbconvert_exporter": "python",
   "pygments_lexer": "ipython3",
   "version": "3.9.6"
  }
 },
 "nbformat": 4,
 "nbformat_minor": 5
}
